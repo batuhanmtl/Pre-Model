{
 "cells": [
  {
   "cell_type": "markdown",
   "source": [
    "# Data Pre-Processing"
   ],
   "metadata": {
    "collapsed": false,
    "pycharm": {
     "name": "#%% md\n"
    }
   }
  },
  {
   "cell_type": "markdown",
   "source": [
    "<b> In this document, we will try to adapt the data we have to the machine learning model by using various data sets."
   ],
   "metadata": {
    "collapsed": false,
    "pycharm": {
     "name": "#%% md\n"
    }
   }
  },
  {
   "cell_type": "code",
   "execution_count": 3,
   "outputs": [
    {
     "data": {
      "text/plain": "   survived  pclass     sex   age  sibsp  parch     fare embarked  class    who  adult_male deck  embark_town alive  alone\n0         0       3    male  22.0      1      0   7.2500        S  Third    man        True  NaN  Southampton    no  False\n1         1       1  female  38.0      1      0  71.2833        C  First  woman       False    C    Cherbourg   yes  False\n2         1       3  female  26.0      0      0   7.9250        S  Third  woman       False  NaN  Southampton   yes   True\n3         1       1  female  35.0      1      0  53.1000        S  First  woman       False    C  Southampton   yes  False\n4         0       3    male  35.0      0      0   8.0500        S  Third    man        True  NaN  Southampton    no   True",
      "text/html": "<div>\n<style scoped>\n    .dataframe tbody tr th:only-of-type {\n        vertical-align: middle;\n    }\n\n    .dataframe tbody tr th {\n        vertical-align: top;\n    }\n\n    .dataframe thead th {\n        text-align: right;\n    }\n</style>\n<table border=\"1\" class=\"dataframe\">\n  <thead>\n    <tr style=\"text-align: right;\">\n      <th></th>\n      <th>survived</th>\n      <th>pclass</th>\n      <th>sex</th>\n      <th>age</th>\n      <th>sibsp</th>\n      <th>parch</th>\n      <th>fare</th>\n      <th>embarked</th>\n      <th>class</th>\n      <th>who</th>\n      <th>adult_male</th>\n      <th>deck</th>\n      <th>embark_town</th>\n      <th>alive</th>\n      <th>alone</th>\n    </tr>\n  </thead>\n  <tbody>\n    <tr>\n      <th>0</th>\n      <td>0</td>\n      <td>3</td>\n      <td>male</td>\n      <td>22.0</td>\n      <td>1</td>\n      <td>0</td>\n      <td>7.2500</td>\n      <td>S</td>\n      <td>Third</td>\n      <td>man</td>\n      <td>True</td>\n      <td>NaN</td>\n      <td>Southampton</td>\n      <td>no</td>\n      <td>False</td>\n    </tr>\n    <tr>\n      <th>1</th>\n      <td>1</td>\n      <td>1</td>\n      <td>female</td>\n      <td>38.0</td>\n      <td>1</td>\n      <td>0</td>\n      <td>71.2833</td>\n      <td>C</td>\n      <td>First</td>\n      <td>woman</td>\n      <td>False</td>\n      <td>C</td>\n      <td>Cherbourg</td>\n      <td>yes</td>\n      <td>False</td>\n    </tr>\n    <tr>\n      <th>2</th>\n      <td>1</td>\n      <td>3</td>\n      <td>female</td>\n      <td>26.0</td>\n      <td>0</td>\n      <td>0</td>\n      <td>7.9250</td>\n      <td>S</td>\n      <td>Third</td>\n      <td>woman</td>\n      <td>False</td>\n      <td>NaN</td>\n      <td>Southampton</td>\n      <td>yes</td>\n      <td>True</td>\n    </tr>\n    <tr>\n      <th>3</th>\n      <td>1</td>\n      <td>1</td>\n      <td>female</td>\n      <td>35.0</td>\n      <td>1</td>\n      <td>0</td>\n      <td>53.1000</td>\n      <td>S</td>\n      <td>First</td>\n      <td>woman</td>\n      <td>False</td>\n      <td>C</td>\n      <td>Southampton</td>\n      <td>yes</td>\n      <td>False</td>\n    </tr>\n    <tr>\n      <th>4</th>\n      <td>0</td>\n      <td>3</td>\n      <td>male</td>\n      <td>35.0</td>\n      <td>0</td>\n      <td>0</td>\n      <td>8.0500</td>\n      <td>S</td>\n      <td>Third</td>\n      <td>man</td>\n      <td>True</td>\n      <td>NaN</td>\n      <td>Southampton</td>\n      <td>no</td>\n      <td>True</td>\n    </tr>\n  </tbody>\n</table>\n</div>"
     },
     "execution_count": 3,
     "metadata": {},
     "output_type": "execute_result"
    }
   ],
   "source": [
    "import pandas as pd\n",
    "import seaborn as sns\n",
    "\n",
    "pd.set_option('display.max_columns', None)\n",
    "pd.set_option('display.width', 500)\n",
    "df = sns.load_dataset(\"titanic\")\n",
    "df.head()"
   ],
   "metadata": {
    "collapsed": false,
    "pycharm": {
     "name": "#%%\n"
    }
   }
  },
  {
   "cell_type": "markdown",
   "source": [
    "<b> Overview of the Titanic Dataset"
   ],
   "metadata": {
    "collapsed": false,
    "pycharm": {
     "name": "#%% md\n"
    }
   }
  },
  {
   "cell_type": "code",
   "execution_count": 4,
   "outputs": [
    {
     "name": "stdout",
     "output_type": "stream",
     "text": [
      "##################### Shape #####################\n",
      "(891, 15)\n",
      "##################### Types #####################\n",
      "survived          int64\n",
      "pclass            int64\n",
      "sex              object\n",
      "age             float64\n",
      "sibsp             int64\n",
      "parch             int64\n",
      "fare            float64\n",
      "embarked         object\n",
      "class          category\n",
      "who              object\n",
      "adult_male         bool\n",
      "deck           category\n",
      "embark_town      object\n",
      "alive            object\n",
      "alone              bool\n",
      "dtype: object\n",
      "##################### Head #####################\n",
      "##################### Tail #####################\n",
      "     survived  pclass     sex   age  sibsp  parch   fare embarked   class    who  adult_male deck  embark_town alive  alone\n",
      "886         0       2    male  27.0      0      0  13.00        S  Second    man        True  NaN  Southampton    no   True\n",
      "887         1       1  female  19.0      0      0  30.00        S   First  woman       False    B  Southampton   yes   True\n",
      "888         0       3  female   NaN      1      2  23.45        S   Third  woman       False  NaN  Southampton    no  False\n",
      "889         1       1    male  26.0      0      0  30.00        C   First    man        True    C    Cherbourg   yes   True\n",
      "890         0       3    male  32.0      0      0   7.75        Q   Third    man        True  NaN   Queenstown    no   True\n",
      "##################### NA #####################\n",
      "survived         0\n",
      "pclass           0\n",
      "sex              0\n",
      "age            177\n",
      "sibsp            0\n",
      "parch            0\n",
      "fare             0\n",
      "embarked         2\n",
      "class            0\n",
      "who              0\n",
      "adult_male       0\n",
      "deck           688\n",
      "embark_town      2\n",
      "alive            0\n",
      "alone            0\n",
      "dtype: int64\n",
      "##################### Quantiles #####################\n",
      "          count       mean        std   min    0%     5%      50%        95%        99%      100%       max\n",
      "survived  891.0   0.383838   0.486592  0.00  0.00  0.000   0.0000    1.00000    1.00000    1.0000    1.0000\n",
      "pclass    891.0   2.308642   0.836071  1.00  1.00  1.000   3.0000    3.00000    3.00000    3.0000    3.0000\n",
      "age       714.0  29.699118  14.526497  0.42  0.42  4.000  28.0000   56.00000   65.87000   80.0000   80.0000\n",
      "sibsp     891.0   0.523008   1.102743  0.00  0.00  0.000   0.0000    3.00000    5.00000    8.0000    8.0000\n",
      "parch     891.0   0.381594   0.806057  0.00  0.00  0.000   0.0000    2.00000    4.00000    6.0000    6.0000\n",
      "fare      891.0  32.204208  49.693429  0.00  0.00  7.225  14.4542  112.07915  249.00622  512.3292  512.3292\n"
     ]
    }
   ],
   "source": [
    "from EDA import check_df\n",
    "\n",
    "check_df(df)"
   ],
   "metadata": {
    "collapsed": false,
    "pycharm": {
     "name": "#%%\n"
    }
   }
  },
  {
   "cell_type": "markdown",
   "source": [
    "# Analysis of Categorical Variables"
   ],
   "metadata": {
    "collapsed": false,
    "pycharm": {
     "name": "#%% md\n"
    }
   }
  },
  {
   "cell_type": "code",
   "execution_count": 5,
   "outputs": [
    {
     "data": {
      "text/plain": "0    549\n1    342\nName: survived, dtype: int64"
     },
     "execution_count": 5,
     "metadata": {},
     "output_type": "execute_result"
    }
   ],
   "source": [
    "df[\"survived\"].value_counts()"
   ],
   "metadata": {
    "collapsed": false,
    "pycharm": {
     "name": "#%%\n"
    }
   }
  },
  {
   "cell_type": "code",
   "execution_count": 6,
   "outputs": [
    {
     "data": {
      "text/plain": "array(['male', 'female'], dtype=object)"
     },
     "execution_count": 6,
     "metadata": {},
     "output_type": "execute_result"
    }
   ],
   "source": [
    "df[\"sex\"].unique()"
   ],
   "metadata": {
    "collapsed": false,
    "pycharm": {
     "name": "#%%\n"
    }
   }
  },
  {
   "cell_type": "code",
   "execution_count": 7,
   "outputs": [
    {
     "data": {
      "text/plain": "3"
     },
     "execution_count": 7,
     "metadata": {},
     "output_type": "execute_result"
    }
   ],
   "source": [
    "df[\"class\"].nunique()"
   ],
   "metadata": {
    "collapsed": false,
    "pycharm": {
     "name": "#%%\n"
    }
   }
  },
  {
   "cell_type": "code",
   "execution_count": 8,
   "outputs": [
    {
     "name": "stdout",
     "output_type": "stream",
     "text": [
      "        sex      Ratio\n",
      "male    577  64.758698\n",
      "female  314  35.241302\n",
      "##########################################\n"
     ]
    }
   ],
   "source": [
    "from EDA import *\n",
    "cat_summary(df,'sex')"
   ],
   "metadata": {
    "collapsed": false,
    "pycharm": {
     "name": "#%%\n"
    }
   }
  },
  {
   "cell_type": "markdown",
   "source": [
    "<b> Let's find out what are categorical variables"
   ],
   "metadata": {
    "collapsed": false,
    "pycharm": {
     "name": "#%% md\n"
    }
   }
  },
  {
   "cell_type": "code",
   "execution_count": 9,
   "outputs": [
    {
     "name": "stdout",
     "output_type": "stream",
     "text": [
      "Observations: 891\n",
      "Variables: 15\n",
      "cat_cols: 9\n",
      "num_cols: 2\n",
      "cat_but_car: 0\n",
      "num_but_cat: 0\n"
     ]
    },
    {
     "data": {
      "text/plain": "['sex',\n 'embarked',\n 'class',\n 'who',\n 'adult_male',\n 'deck',\n 'embark_town',\n 'alive',\n 'alone']"
     },
     "execution_count": 9,
     "metadata": {},
     "output_type": "execute_result"
    }
   ],
   "source": [
    "cat_cols, num_cols, cat_but_car = grab_col_names(df)\n",
    "cat_cols"
   ],
   "metadata": {
    "collapsed": false,
    "pycharm": {
     "name": "#%%\n"
    }
   }
  },
  {
   "cell_type": "code",
   "execution_count": 10,
   "outputs": [
    {
     "data": {
      "text/plain": "['age', 'fare']"
     },
     "execution_count": 10,
     "metadata": {},
     "output_type": "execute_result"
    }
   ],
   "source": [
    "# Numerical columns\n",
    "\n",
    "num_cols"
   ],
   "metadata": {
    "collapsed": false,
    "pycharm": {
     "name": "#%%\n"
    }
   }
  },
  {
   "cell_type": "code",
   "execution_count": 11,
   "outputs": [
    {
     "data": {
      "text/plain": "[]"
     },
     "execution_count": 11,
     "metadata": {},
     "output_type": "execute_result"
    }
   ],
   "source": [
    "# Categorical but High cardinality columns\n",
    "\n",
    "cat_but_car"
   ],
   "metadata": {
    "collapsed": false,
    "pycharm": {
     "name": "#%%\n"
    }
   }
  },
  {
   "cell_type": "code",
   "execution_count": 12,
   "outputs": [
    {
     "name": "stdout",
     "output_type": "stream",
     "text": [
      "        sex      Ratio\n",
      "male    577  64.758698\n",
      "female  314  35.241302\n",
      "##########################################\n",
      "   embarked      Ratio\n",
      "S       644  72.278339\n",
      "C       168  18.855219\n",
      "Q        77   8.641975\n",
      "##########################################\n",
      "        class      Ratio\n",
      "Third     491  55.106622\n",
      "First     216  24.242424\n",
      "Second    184  20.650954\n",
      "##########################################\n",
      "       who      Ratio\n",
      "man    537  60.269360\n",
      "woman  271  30.415264\n",
      "child   83   9.315376\n",
      "##########################################\n",
      "   adult_male     Ratio\n",
      "1         537  60.26936\n",
      "0         354  39.73064\n",
      "##########################################\n",
      "   deck     Ratio\n",
      "C    59  6.621773\n",
      "B    47  5.274972\n",
      "D    33  3.703704\n",
      "E    32  3.591470\n",
      "A    15  1.683502\n",
      "F    13  1.459035\n",
      "G     4  0.448934\n",
      "##########################################\n",
      "             embark_town      Ratio\n",
      "Southampton          644  72.278339\n",
      "Cherbourg            168  18.855219\n",
      "Queenstown            77   8.641975\n",
      "##########################################\n",
      "     alive      Ratio\n",
      "no     549  61.616162\n",
      "yes    342  38.383838\n",
      "##########################################\n",
      "   alone     Ratio\n",
      "1    537  60.26936\n",
      "0    354  39.73064\n",
      "##########################################\n"
     ]
    }
   ],
   "source": [
    "# Summary for categorical variables\n",
    "from EDA import cat_summary\n",
    "\n",
    "for col in cat_cols:\n",
    "    cat_summary(df, col)"
   ],
   "metadata": {
    "collapsed": false,
    "pycharm": {
     "name": "#%%\n"
    }
   }
  },
  {
   "cell_type": "code",
   "execution_count": 13,
   "outputs": [
    {
     "name": "stdout",
     "output_type": "stream",
     "text": [
      "        sex      Ratio\n",
      "male    577  64.758698\n",
      "female  314  35.241302\n",
      "##########################################\n"
     ]
    },
    {
     "data": {
      "text/plain": "<Figure size 432x288 with 1 Axes>",
      "image/png": "[encoded data removed]"
     },
     "metadata": {},
     "output_type": "display_data"
    }
   ],
   "source": [
    "cat_summary(df, \"sex\", plot=True)"
   ],
   "metadata": {
    "collapsed": false,
    "pycharm": {
     "name": "#%%\n"
    }
   }
  },
  {
   "cell_type": "markdown",
   "source": [
    "# Analysis of Numerical Variables"
   ],
   "metadata": {
    "collapsed": false,
    "pycharm": {
     "name": "#%% md\n"
    }
   }
  },
  {
   "cell_type": "code",
   "execution_count": 15,
   "outputs": [
    {
     "name": "stdout",
     "output_type": "stream",
     "text": [
      "count    714.000000\n",
      "mean      29.699118\n",
      "std       14.526497\n",
      "min        0.420000\n",
      "5%         4.000000\n",
      "10%       14.000000\n",
      "20%       19.000000\n",
      "30%       22.000000\n",
      "40%       25.000000\n",
      "50%       28.000000\n",
      "60%       31.800000\n",
      "70%       36.000000\n",
      "80%       41.000000\n",
      "90%       50.000000\n",
      "95%       56.000000\n",
      "99%       65.870000\n",
      "max       80.000000\n",
      "Name: age, dtype: float64\n"
     ]
    }
   ],
   "source": [
    "num_summary(df, \"age\")"
   ],
   "metadata": {
    "collapsed": false,
    "pycharm": {
     "name": "#%%\n"
    }
   }
  },
  {
   "cell_type": "markdown",
   "source": [
    "<b> Summary information for all numeric variables"
   ],
   "metadata": {
    "collapsed": false,
    "pycharm": {
     "name": "#%% md\n"
    }
   }
  },
  {
   "cell_type": "code",
   "execution_count": 16,
   "outputs": [
    {
     "name": "stdout",
     "output_type": "stream",
     "text": [
      "count    714.000000\n",
      "mean      29.699118\n",
      "std       14.526497\n",
      "min        0.420000\n",
      "5%         4.000000\n",
      "10%       14.000000\n",
      "20%       19.000000\n",
      "30%       22.000000\n",
      "40%       25.000000\n",
      "50%       28.000000\n",
      "60%       31.800000\n",
      "70%       36.000000\n",
      "80%       41.000000\n",
      "90%       50.000000\n",
      "95%       56.000000\n",
      "99%       65.870000\n",
      "max       80.000000\n",
      "Name: age, dtype: float64\n",
      "count    891.000000\n",
      "mean      32.204208\n",
      "std       49.693429\n",
      "min        0.000000\n",
      "5%         7.225000\n",
      "10%        7.550000\n",
      "20%        7.854200\n",
      "30%        8.050000\n",
      "40%       10.500000\n",
      "50%       14.454200\n",
      "60%       21.679200\n",
      "70%       27.000000\n",
      "80%       39.687500\n",
      "90%       77.958300\n",
      "95%      112.079150\n",
      "99%      249.006220\n",
      "max      512.329200\n",
      "Name: fare, dtype: float64\n"
     ]
    }
   ],
   "source": [
    "for col in num_cols:\n",
    "    num_summary(df, col)"
   ],
   "metadata": {
    "collapsed": false,
    "pycharm": {
     "name": "#%%\n"
    }
   }
  },
  {
   "cell_type": "code",
   "execution_count": 17,
   "outputs": [
    {
     "name": "stdout",
     "output_type": "stream",
     "text": [
      "count    714.000000\n",
      "mean      29.699118\n",
      "std       14.526497\n",
      "min        0.420000\n",
      "5%         4.000000\n",
      "10%       14.000000\n",
      "20%       19.000000\n",
      "30%       22.000000\n",
      "40%       25.000000\n",
      "50%       28.000000\n",
      "60%       31.800000\n",
      "70%       36.000000\n",
      "80%       41.000000\n",
      "90%       50.000000\n",
      "95%       56.000000\n",
      "99%       65.870000\n",
      "max       80.000000\n",
      "Name: age, dtype: float64\n"
     ]
    },
    {
     "data": {
      "text/plain": "<Figure size 432x288 with 1 Axes>",
      "image/png": "[encoded data removed]"
     },
     "metadata": {},
     "output_type": "display_data"
    },
    {
     "name": "stdout",
     "output_type": "stream",
     "text": [
      "count    891.000000\n",
      "mean      32.204208\n",
      "std       49.693429\n",
      "min        0.000000\n",
      "5%         7.225000\n",
      "10%        7.550000\n",
      "20%        7.854200\n",
      "30%        8.050000\n",
      "40%       10.500000\n",
      "50%       14.454200\n",
      "60%       21.679200\n",
      "70%       27.000000\n",
      "80%       39.687500\n",
      "90%       77.958300\n",
      "95%      112.079150\n",
      "99%      249.006220\n",
      "max      512.329200\n",
      "Name: fare, dtype: float64\n"
     ]
    },
    {
     "data": {
      "text/plain": "<Figure size 432x288 with 1 Axes>",
      "image/png": "[encoded data removed]"
     },
     "metadata": {},
     "output_type": "display_data"
    }
   ],
   "source": [
    "for col in num_cols:\n",
    "    num_summary(df, col, plot=True)"
   ],
   "metadata": {
    "collapsed": false,
    "pycharm": {
     "name": "#%%\n"
    }
   }
  },
  {
   "cell_type": "markdown",
   "source": [
    "# Analysis of Target Variable"
   ],
   "metadata": {
    "collapsed": false,
    "pycharm": {
     "name": "#%% md\n"
    }
   }
  },
  {
   "cell_type": "code",
   "execution_count": null,
   "outputs": [],
   "source": [],
   "metadata": {
    "collapsed": false,
    "pycharm": {
     "name": "#%%\n"
    }
   }
  }
 ],
 "metadata": {
  "kernelspec": {
   "display_name": "Python 3",
   "language": "python",
   "name": "python3"
  },
  "language_info": {
   "codemirror_mode": {
    "name": "ipython",
    "version": 2
   },
   "file_extension": ".py",
   "mimetype": "text/x-python",
   "name": "python",
   "nbconvert_exporter": "python",
   "pygments_lexer": "ipython2",
   "version": "2.7.6"
  }
 },
 "nbformat": 4,
 "nbformat_minor": 0
}