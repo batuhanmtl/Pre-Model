{
 "cells": [
  {
   "cell_type": "markdown",
   "source": [
    "# Data Pre-Processing"
   ],
   "metadata": {
    "collapsed": false,
    "pycharm": {
     "name": "#%% md\n"
    }
   }
  },
  {
   "cell_type": "markdown",
   "source": [
    "<b> In this document, we will try to adapt the data we have to the machine learning model by using various data sets."
   ],
   "metadata": {
    "collapsed": false,
    "pycharm": {
     "name": "#%% md\n"
    }
   }
  },
  {
   "cell_type": "code",
   "execution_count": 3,
   "outputs": [
    {
     "data": {
      "text/plain": "   survived  pclass     sex   age  sibsp  parch     fare embarked  class    who  adult_male deck  embark_town alive  alone\n0         0       3    male  22.0      1      0   7.2500        S  Third    man        True  NaN  Southampton    no  False\n1         1       1  female  38.0      1      0  71.2833        C  First  woman       False    C    Cherbourg   yes  False\n2         1       3  female  26.0      0      0   7.9250        S  Third  woman       False  NaN  Southampton   yes   True\n3         1       1  female  35.0      1      0  53.1000        S  First  woman       False    C  Southampton   yes  False\n4         0       3    male  35.0      0      0   8.0500        S  Third    man        True  NaN  Southampton    no   True",
      "text/html": "<div>\n<style scoped>\n    .dataframe tbody tr th:only-of-type {\n        vertical-align: middle;\n    }\n\n    .dataframe tbody tr th {\n        vertical-align: top;\n    }\n\n    .dataframe thead th {\n        text-align: right;\n    }\n</style>\n<table border=\"1\" class=\"dataframe\">\n  <thead>\n    <tr style=\"text-align: right;\">\n      <th></th>\n      <th>survived</th>\n      <th>pclass</th>\n      <th>sex</th>\n      <th>age</th>\n      <th>sibsp</th>\n      <th>parch</th>\n      <th>fare</th>\n      <th>embarked</th>\n      <th>class</th>\n      <th>who</th>\n      <th>adult_male</th>\n      <th>deck</th>\n      <th>embark_town</th>\n      <th>alive</th>\n      <th>alone</th>\n    </tr>\n  </thead>\n  <tbody>\n    <tr>\n      <th>0</th>\n      <td>0</td>\n      <td>3</td>\n      <td>male</td>\n      <td>22.0</td>\n      <td>1</td>\n      <td>0</td>\n      <td>7.2500</td>\n      <td>S</td>\n      <td>Third</td>\n      <td>man</td>\n      <td>True</td>\n      <td>NaN</td>\n      <td>Southampton</td>\n      <td>no</td>\n      <td>False</td>\n    </tr>\n    <tr>\n      <th>1</th>\n      <td>1</td>\n      <td>1</td>\n      <td>female</td>\n      <td>38.0</td>\n      <td>1</td>\n      <td>0</td>\n      <td>71.2833</td>\n      <td>C</td>\n      <td>First</td>\n      <td>woman</td>\n      <td>False</td>\n      <td>C</td>\n      <td>Cherbourg</td>\n      <td>yes</td>\n      <td>False</td>\n    </tr>\n    <tr>\n      <th>2</th>\n      <td>1</td>\n      <td>3</td>\n      <td>female</td>\n      <td>26.0</td>\n      <td>0</td>\n      <td>0</td>\n      <td>7.9250</td>\n      <td>S</td>\n      <td>Third</td>\n      <td>woman</td>\n      <td>False</td>\n      <td>NaN</td>\n      <td>Southampton</td>\n      <td>yes</td>\n      <td>True</td>\n    </tr>\n    <tr>\n      <th>3</th>\n      <td>1</td>\n      <td>1</td>\n      <td>female</td>\n      <td>35.0</td>\n      <td>1</td>\n      <td>0</td>\n      <td>53.1000</td>\n      <td>S</td>\n      <td>First</td>\n      <td>woman</td>\n      <td>False</td>\n      <td>C</td>\n      <td>Southampton</td>\n      <td>yes</td>\n      <td>False</td>\n    </tr>\n    <tr>\n      <th>4</th>\n      <td>0</td>\n      <td>3</td>\n      <td>male</td>\n      <td>35.0</td>\n      <td>0</td>\n      <td>0</td>\n      <td>8.0500</td>\n      <td>S</td>\n      <td>Third</td>\n      <td>man</td>\n      <td>True</td>\n      <td>NaN</td>\n      <td>Southampton</td>\n      <td>no</td>\n      <td>True</td>\n    </tr>\n  </tbody>\n</table>\n</div>"
     },
     "execution_count": 3,
     "metadata": {},
     "output_type": "execute_result"
    }
   ],
   "source": [
    "import pandas as pd\n",
    "import seaborn as sns\n",
    "\n",
    "pd.set_option('display.max_columns', None)\n",
    "pd.set_option('display.width', 500)\n",
    "df = sns.load_dataset(\"titanic\")\n",
    "df.head()"
   ],
   "metadata": {
    "collapsed": false,
    "pycharm": {
     "name": "#%%\n"
    }
   }
  },
  {
   "cell_type": "markdown",
   "source": [
    "<b> Overview of the Titanic Dataset"
   ],
   "metadata": {
    "collapsed": false,
    "pycharm": {
     "name": "#%% md\n"
    }
   }
  },
  {
   "cell_type": "code",
   "execution_count": 4,
   "outputs": [
    {
     "name": "stdout",
     "output_type": "stream",
     "text": [
      "##################### Shape #####################\n",
      "(891, 15)\n",
      "##################### Types #####################\n",
      "survived          int64\n",
      "pclass            int64\n",
      "sex              object\n",
      "age             float64\n",
      "sibsp             int64\n",
      "parch             int64\n",
      "fare            float64\n",
      "embarked         object\n",
      "class          category\n",
      "who              object\n",
      "adult_male         bool\n",
      "deck           category\n",
      "embark_town      object\n",
      "alive            object\n",
      "alone              bool\n",
      "dtype: object\n",
      "##################### Head #####################\n",
      "##################### Tail #####################\n",
      "     survived  pclass     sex   age  sibsp  parch   fare embarked   class    who  adult_male deck  embark_town alive  alone\n",
      "886         0       2    male  27.0      0      0  13.00        S  Second    man        True  NaN  Southampton    no   True\n",
      "887         1       1  female  19.0      0      0  30.00        S   First  woman       False    B  Southampton   yes   True\n",
      "888         0       3  female   NaN      1      2  23.45        S   Third  woman       False  NaN  Southampton    no  False\n",
      "889         1       1    male  26.0      0      0  30.00        C   First    man        True    C    Cherbourg   yes   True\n",
      "890         0       3    male  32.0      0      0   7.75        Q   Third    man        True  NaN   Queenstown    no   True\n",
      "##################### NA #####################\n",
      "survived         0\n",
      "pclass           0\n",
      "sex              0\n",
      "age            177\n",
      "sibsp            0\n",
      "parch            0\n",
      "fare             0\n",
      "embarked         2\n",
      "class            0\n",
      "who              0\n",
      "adult_male       0\n",
      "deck           688\n",
      "embark_town      2\n",
      "alive            0\n",
      "alone            0\n",
      "dtype: int64\n",
      "##################### Quantiles #####################\n",
      "          count       mean        std   min    0%     5%      50%        95%        99%      100%       max\n",
      "survived  891.0   0.383838   0.486592  0.00  0.00  0.000   0.0000    1.00000    1.00000    1.0000    1.0000\n",
      "pclass    891.0   2.308642   0.836071  1.00  1.00  1.000   3.0000    3.00000    3.00000    3.0000    3.0000\n",
      "age       714.0  29.699118  14.526497  0.42  0.42  4.000  28.0000   56.00000   65.87000   80.0000   80.0000\n",
      "sibsp     891.0   0.523008   1.102743  0.00  0.00  0.000   0.0000    3.00000    5.00000    8.0000    8.0000\n",
      "parch     891.0   0.381594   0.806057  0.00  0.00  0.000   0.0000    2.00000    4.00000    6.0000    6.0000\n",
      "fare      891.0  32.204208  49.693429  0.00  0.00  7.225  14.4542  112.07915  249.00622  512.3292  512.3292\n"
     ]
    }
   ],
   "source": [
    "from EDA import check_df\n",
    "\n",
    "check_df(df)"
   ],
   "metadata": {
    "collapsed": false,
    "pycharm": {
     "name": "#%%\n"
    }
   }
  },
  {
   "cell_type": "markdown",
   "source": [
    "# Analysis of Categorical Variables"
   ],
   "metadata": {
    "collapsed": false,
    "pycharm": {
     "name": "#%% md\n"
    }
   }
  },
  {
   "cell_type": "code",
   "execution_count": 5,
   "outputs": [
    {
     "data": {
      "text/plain": "0    549\n1    342\nName: survived, dtype: int64"
     },
     "execution_count": 5,
     "metadata": {},
     "output_type": "execute_result"
    }
   ],
   "source": [
    "df[\"survived\"].value_counts()"
   ],
   "metadata": {
    "collapsed": false,
    "pycharm": {
     "name": "#%%\n"
    }
   }
  },
  {
   "cell_type": "code",
   "execution_count": 6,
   "outputs": [
    {
     "data": {
      "text/plain": "array(['male', 'female'], dtype=object)"
     },
     "execution_count": 6,
     "metadata": {},
     "output_type": "execute_result"
    }
   ],
   "source": [
    "df[\"sex\"].unique()"
   ],
   "metadata": {
    "collapsed": false,
    "pycharm": {
     "name": "#%%\n"
    }
   }
  },
  {
   "cell_type": "code",
   "execution_count": 7,
   "outputs": [
    {
     "data": {
      "text/plain": "3"
     },
     "execution_count": 7,
     "metadata": {},
     "output_type": "execute_result"
    }
   ],
   "source": [
    "df[\"class\"].nunique()"
   ],
   "metadata": {
    "collapsed": false,
    "pycharm": {
     "name": "#%%\n"
    }
   }
  },
  {
   "cell_type": "code",
   "execution_count": 8,
   "outputs": [
    {
     "name": "stdout",
     "output_type": "stream",
     "text": [
      "        sex      Ratio\n",
      "male    577  64.758698\n",
      "female  314  35.241302\n",
      "##########################################\n"
     ]
    }
   ],
   "source": [
    "from EDA import *\n",
    "cat_summary(df,'sex')"
   ],
   "metadata": {
    "collapsed": false,
    "pycharm": {
     "name": "#%%\n"
    }
   }
  },
  {
   "cell_type": "markdown",
   "source": [
    "<b> Let's find out what are categorical variables"
   ],
   "metadata": {
    "collapsed": false,
    "pycharm": {
     "name": "#%% md\n"
    }
   }
  },
  {
   "cell_type": "code",
   "execution_count": 9,
   "outputs": [
    {
     "name": "stdout",
     "output_type": "stream",
     "text": [
      "Observations: 891\n",
      "Variables: 15\n",
      "cat_cols: 9\n",
      "num_cols: 2\n",
      "cat_but_car: 0\n",
      "num_but_cat: 0\n"
     ]
    },
    {
     "data": {
      "text/plain": "['sex',\n 'embarked',\n 'class',\n 'who',\n 'adult_male',\n 'deck',\n 'embark_town',\n 'alive',\n 'alone']"
     },
     "execution_count": 9,
     "metadata": {},
     "output_type": "execute_result"
    }
   ],
   "source": [
    "cat_cols, num_cols, cat_but_car = grab_col_names(df)\n",
    "cat_cols"
   ],
   "metadata": {
    "collapsed": false,
    "pycharm": {
     "name": "#%%\n"
    }
   }
  },
  {
   "cell_type": "code",
   "execution_count": 10,
   "outputs": [
    {
     "data": {
      "text/plain": "['age', 'fare']"
     },
     "execution_count": 10,
     "metadata": {},
     "output_type": "execute_result"
    }
   ],
   "source": [
    "# Numerical columns\n",
    "\n",
    "num_cols"
   ],
   "metadata": {
    "collapsed": false,
    "pycharm": {
     "name": "#%%\n"
    }
   }
  },
  {
   "cell_type": "code",
   "execution_count": 11,
   "outputs": [
    {
     "data": {
      "text/plain": "[]"
     },
     "execution_count": 11,
     "metadata": {},
     "output_type": "execute_result"
    }
   ],
   "source": [
    "# Categorical but High cardinality columns\n",
    "\n",
    "cat_but_car"
   ],
   "metadata": {
    "collapsed": false,
    "pycharm": {
     "name": "#%%\n"
    }
   }
  },
  {
   "cell_type": "code",
   "execution_count": 12,
   "outputs": [
    {
     "name": "stdout",
     "output_type": "stream",
     "text": [
      "        sex      Ratio\n",
      "male    577  64.758698\n",
      "female  314  35.241302\n",
      "##########################################\n",
      "   embarked      Ratio\n",
      "S       644  72.278339\n",
      "C       168  18.855219\n",
      "Q        77   8.641975\n",
      "##########################################\n",
      "        class      Ratio\n",
      "Third     491  55.106622\n",
      "First     216  24.242424\n",
      "Second    184  20.650954\n",
      "##########################################\n",
      "       who      Ratio\n",
      "man    537  60.269360\n",
      "woman  271  30.415264\n",
      "child   83   9.315376\n",
      "##########################################\n",
      "   adult_male     Ratio\n",
      "1         537  60.26936\n",
      "0         354  39.73064\n",
      "##########################################\n",
      "   deck     Ratio\n",
      "C    59  6.621773\n",
      "B    47  5.274972\n",
      "D    33  3.703704\n",
      "E    32  3.591470\n",
      "A    15  1.683502\n",
      "F    13  1.459035\n",
      "G     4  0.448934\n",
      "##########################################\n",
      "             embark_town      Ratio\n",
      "Southampton          644  72.278339\n",
      "Cherbourg            168  18.855219\n",
      "Queenstown            77   8.641975\n",
      "##########################################\n",
      "     alive      Ratio\n",
      "no     549  61.616162\n",
      "yes    342  38.383838\n",
      "##########################################\n",
      "   alone     Ratio\n",
      "1    537  60.26936\n",
      "0    354  39.73064\n",
      "##########################################\n"
     ]
    }
   ],
   "source": [
    "# Summary for categorical variables\n",
    "from EDA import cat_summary\n",
    "\n",
    "for col in cat_cols:\n",
    "    cat_summary(df, col)"
   ],
   "metadata": {
    "collapsed": false,
    "pycharm": {
     "name": "#%%\n"
    }
   }
  },
  {
   "cell_type": "code",
   "execution_count": 13,
   "outputs": [
    {
     "name": "stdout",
     "output_type": "stream",
     "text": [
      "        sex      Ratio\n",
      "male    577  64.758698\n",
      "female  314  35.241302\n",
      "##########################################\n"
     ]
    },
    {
     "data": {
      "text/plain": "<Figure size 432x288 with 1 Axes>",
      "image/png": "[encoded data removed]"
     },
     "metadata": {},
     "output_type": "display_data"
    }
   ],
   "source": [
    "cat_summary(df, \"sex\", plot=True)"
   ],
   "metadata": {
    "collapsed": false,
    "pycharm": {
     "name": "#%%\n"
    }
   }
  },
  {
   "cell_type": "markdown",
   "source": [
    "# Analysis of Numerical Variables"
   ],
   "metadata": {
    "collapsed": false,
    "pycharm": {
     "name": "#%% md\n"
    }
   }
  },
  {
   "cell_type": "code",
   "execution_count": 15,
   "outputs": [
    {
     "name": "stdout",
     "output_type": "stream",
     "text": [
      "count    714.000000\n",
      "mean      29.699118\n",
      "std       14.526497\n",
      "min        0.420000\n",
      "5%         4.000000\n",
      "10%       14.000000\n",
      "20%       19.000000\n",
      "30%       22.000000\n",
      "40%       25.000000\n",
      "50%       28.000000\n",
      "60%       31.800000\n",
      "70%       36.000000\n",
      "80%       41.000000\n",
      "90%       50.000000\n",
      "95%       56.000000\n",
      "99%       65.870000\n",
      "max       80.000000\n",
      "Name: age, dtype: float64\n"
     ]
    }
   ],
   "source": [
    "num_summary(df, \"age\")"
   ],
   "metadata": {
    "collapsed": false,
    "pycharm": {
     "name": "#%%\n"
    }
   }
  },
  {
   "cell_type": "markdown",
   "source": [
    "<b> Summary information for all numeric variables"
   ],
   "metadata": {
    "collapsed": false,
    "pycharm": {
     "name": "#%% md\n"
    }
   }
  },
  {
   "cell_type": "code",
   "execution_count": 16,
   "outputs": [
    {
     "name": "stdout",
     "output_type": "stream",
     "text": [
      "count    714.000000\n",
      "mean      29.699118\n",
      "std       14.526497\n",
      "min        0.420000\n",
      "5%         4.000000\n",
      "10%       14.000000\n",
      "20%       19.000000\n",
      "30%       22.000000\n",
      "40%       25.000000\n",
      "50%       28.000000\n",
      "60%       31.800000\n",
      "70%       36.000000\n",
      "80%       41.000000\n",
      "90%       50.000000\n",
      "95%       56.000000\n",
      "99%       65.870000\n",
      "max       80.000000\n",
      "Name: age, dtype: float64\n",
      "count    891.000000\n",
      "mean      32.204208\n",
      "std       49.693429\n",
      "min        0.000000\n",
      "5%         7.225000\n",
      "10%        7.550000\n",
      "20%        7.854200\n",
      "30%        8.050000\n",
      "40%       10.500000\n",
      "50%       14.454200\n",
      "60%       21.679200\n",
      "70%       27.000000\n",
      "80%       39.687500\n",
      "90%       77.958300\n",
      "95%      112.079150\n",
      "99%      249.006220\n",
      "max      512.329200\n",
      "Name: fare, dtype: float64\n"
     ]
    }
   ],
   "source": [
    "for col in num_cols:\n",
    "    num_summary(df, col)"
   ],
   "metadata": {
    "collapsed": false,
    "pycharm": {
     "name": "#%%\n"
    }
   }
  },
  {
   "cell_type": "code",
   "execution_count": 17,
   "outputs": [
    {
     "name": "stdout",
     "output_type": "stream",
     "text": [
      "count    714.000000\n",
      "mean      29.699118\n",
      "std       14.526497\n",
      "min        0.420000\n",
      "5%         4.000000\n",
      "10%       14.000000\n",
      "20%       19.000000\n",
      "30%       22.000000\n",
      "40%       25.000000\n",
      "50%       28.000000\n",
      "60%       31.800000\n",
      "70%       36.000000\n",
      "80%       41.000000\n",
      "90%       50.000000\n",
      "95%       56.000000\n",
      "99%       65.870000\n",
      "max       80.000000\n",
      "Name: age, dtype: float64\n"
     ]
    },
    {
     "data": {
      "text/plain": "<Figure size 432x288 with 1 Axes>",
      "image/png": "[encoded data removed]"
     },
     "metadata": {},
     "output_type": "display_data"
    },
    {
     "name": "stdout",
     "output_type": "stream",
     "text": [
      "count    891.000000\n",
      "mean      32.204208\n",
      "std       49.693429\n",
      "min        0.000000\n",
      "5%         7.225000\n",
      "10%        7.550000\n",
      "20%        7.854200\n",
      "30%        8.050000\n",
      "40%       10.500000\n",
      "50%       14.454200\n",
      "60%       21.679200\n",
      "70%       27.000000\n",
      "80%       39.687500\n",
      "90%       77.958300\n",
      "95%      112.079150\n",
      "99%      249.006220\n",
      "max      512.329200\n",
      "Name: fare, dtype: float64\n"
     ]
    },
    {
     "data": {
      "text/plain": "<Figure size 432x288 with 1 Axes>",
      "image/png": "[encoded data removed]"
     },
     "metadata": {},
     "output_type": "display_data"
    }
   ],
   "source": [
    "for col in num_cols:\n",
    "    num_summary(df, col, plot=True)"
   ],
   "metadata": {
    "collapsed": false,
    "pycharm": {
     "name": "#%%\n"
    }
   }
  },
  {
   "cell_type": "markdown",
   "source": [
    "# Analysis of Target Variable"
   ],
   "metadata": {
    "collapsed": false,
    "pycharm": {
     "name": "#%% md\n"
    }
   }
  },
  {
   "cell_type": "code",
   "execution_count": 18,
   "outputs": [
    {
     "data": {
      "text/plain": "0    549\n1    342\nName: survived, dtype: int64"
     },
     "execution_count": 18,
     "metadata": {},
     "output_type": "execute_result"
    }
   ],
   "source": [
    "df[\"survived\"].value_counts()"
   ],
   "metadata": {
    "collapsed": false,
    "pycharm": {
     "name": "#%%\n"
    }
   }
  },
  {
   "cell_type": "code",
   "execution_count": 19,
   "outputs": [
    {
     "name": "stdout",
     "output_type": "stream",
     "text": [
      "   survived      Ratio\n",
      "0       549  61.616162\n",
      "1       342  38.383838\n",
      "##########################################\n"
     ]
    },
    {
     "data": {
      "text/plain": "<Figure size 432x288 with 1 Axes>",
      "image/png": "[encoded data removed]"
     },
     "metadata": {},
     "output_type": "display_data"
    }
   ],
   "source": [
    "cat_summary(df, \"survived\", plot=True)"
   ],
   "metadata": {
    "collapsed": false,
    "pycharm": {
     "name": "#%%\n"
    }
   }
  },
  {
   "cell_type": "markdown",
   "source": [
    "# Analysis of the Target Variable with Categorical Variables"
   ],
   "metadata": {
    "collapsed": false,
    "pycharm": {
     "name": "#%% md\n"
    }
   }
  },
  {
   "cell_type": "code",
   "execution_count": 20,
   "outputs": [
    {
     "name": "stdout",
     "output_type": "stream",
     "text": [
      "        TARGET_MEAN\n",
      "pclass             \n",
      "1          0.629630\n",
      "2          0.472826\n",
      "3          0.242363\n",
      "\n",
      "\n"
     ]
    }
   ],
   "source": [
    "from EDA import target_summary_with_cat\n",
    "\n",
    "target_summary_with_cat(df, \"survived\", \"pclass\")"
   ],
   "metadata": {
    "collapsed": false,
    "pycharm": {
     "name": "#%%\n"
    }
   }
  },
  {
   "cell_type": "code",
   "execution_count": 21,
   "outputs": [
    {
     "name": "stdout",
     "output_type": "stream",
     "text": [
      "        TARGET_MEAN\n",
      "sex                \n",
      "female     0.742038\n",
      "male       0.188908\n",
      "\n",
      "\n",
      "          TARGET_MEAN\n",
      "embarked             \n",
      "C            0.553571\n",
      "Q            0.389610\n",
      "S            0.336957\n",
      "\n",
      "\n",
      "        TARGET_MEAN\n",
      "class              \n",
      "First      0.629630\n",
      "Second     0.472826\n",
      "Third      0.242363\n",
      "\n",
      "\n",
      "       TARGET_MEAN\n",
      "who               \n",
      "child     0.590361\n",
      "man       0.163873\n",
      "woman     0.756458\n",
      "\n",
      "\n",
      "            TARGET_MEAN\n",
      "adult_male             \n",
      "0              0.717514\n",
      "1              0.163873\n",
      "\n",
      "\n",
      "      TARGET_MEAN\n",
      "deck             \n",
      "A        0.466667\n",
      "B        0.744681\n",
      "C        0.593220\n",
      "D        0.757576\n",
      "E        0.750000\n",
      "F        0.615385\n",
      "G        0.500000\n",
      "\n",
      "\n",
      "             TARGET_MEAN\n",
      "embark_town             \n",
      "Cherbourg       0.553571\n",
      "Queenstown      0.389610\n",
      "Southampton     0.336957\n",
      "\n",
      "\n",
      "       TARGET_MEAN\n",
      "alive             \n",
      "no             0.0\n",
      "yes            1.0\n",
      "\n",
      "\n",
      "       TARGET_MEAN\n",
      "alone             \n",
      "0         0.505650\n",
      "1         0.303538\n",
      "\n",
      "\n"
     ]
    }
   ],
   "source": [
    "for col in cat_cols:\n",
    "    target_summary_with_cat(df, \"survived\", col)"
   ],
   "metadata": {
    "collapsed": false,
    "pycharm": {
     "name": "#%%\n"
    }
   }
  },
  {
   "cell_type": "markdown",
   "source": [
    "# Analysis of Target Variable with Numerical Variables"
   ],
   "metadata": {
    "collapsed": false,
    "pycharm": {
     "name": "#%% md\n"
    }
   }
  },
  {
   "cell_type": "code",
   "execution_count": 22,
   "outputs": [
    {
     "name": "stdout",
     "output_type": "stream",
     "text": [
      "                age\n",
      "survived           \n",
      "0         30.626179\n",
      "1         28.343690\n",
      "\n",
      "\n",
      "               fare\n",
      "survived           \n",
      "0         22.117887\n",
      "1         48.395408\n",
      "\n",
      "\n"
     ]
    }
   ],
   "source": [
    "from EDA import target_summary_with_num\n",
    "\n",
    "for col in num_cols:\n",
    "    target_summary_with_num(df, \"survived\", col)"
   ],
   "metadata": {
    "collapsed": false,
    "pycharm": {
     "name": "#%%\n"
    }
   }
  },
  {
   "cell_type": "markdown",
   "source": [
    "# Analysis of Correlation"
   ],
   "metadata": {
    "collapsed": false,
    "pycharm": {
     "name": "#%% md\n"
    }
   }
  },
  {
   "cell_type": "code",
   "execution_count": 23,
   "outputs": [
    {
     "data": {
      "text/plain": "  diagnosis  radius_mean  texture_mean  perimeter_mean  area_mean  smoothness_mean  compactness_mean  concavity_mean  concave points_mean  symmetry_mean  fractal_dimension_mean  radius_se  texture_se  perimeter_se  area_se  smoothness_se  compactness_se  concavity_se  concave points_se  symmetry_se  fractal_dimension_se  radius_worst  texture_worst  perimeter_worst  area_worst  smoothness_worst  compactness_worst  concavity_worst  concave points_worst  symmetry_worst  fractal_dimension_worst\n0         M        17.99         10.38          122.80     1001.0          0.11840           0.27760          0.3001              0.14710         0.2419                 0.07871     1.0950      0.9053         8.589   153.40       0.006399         0.04904       0.05373            0.01587      0.03003              0.006193         25.38          17.33           184.60      2019.0            0.1622             0.6656           0.7119                0.2654          0.4601                  0.11890\n1         M        20.57         17.77          132.90     1326.0          0.08474           0.07864          0.0869              0.07017         0.1812                 0.05667     0.5435      0.7339         3.398    74.08       0.005225         0.01308       0.01860            0.01340      0.01389              0.003532         24.99          23.41           158.80      1956.0            0.1238             0.1866           0.2416                0.1860          0.2750                  0.08902\n2         M        19.69         21.25          130.00     1203.0          0.10960           0.15990          0.1974              0.12790         0.2069                 0.05999     0.7456      0.7869         4.585    94.03       0.006150         0.04006       0.03832            0.02058      0.02250              0.004571         23.57          25.53           152.50      1709.0            0.1444             0.4245           0.4504                0.2430          0.3613                  0.08758\n3         M        11.42         20.38           77.58      386.1          0.14250           0.28390          0.2414              0.10520         0.2597                 0.09744     0.4956      1.1560         3.445    27.23       0.009110         0.07458       0.05661            0.01867      0.05963              0.009208         14.91          26.50            98.87       567.7            0.2098             0.8663           0.6869                0.2575          0.6638                  0.17300\n4         M        20.29         14.34          135.10     1297.0          0.10030           0.13280          0.1980              0.10430         0.1809                 0.05883     0.7572      0.7813         5.438    94.44       0.011490         0.02461       0.05688            0.01885      0.01756              0.005115         22.54          16.67           152.20      1575.0            0.1374             0.2050           0.4000                0.1625          0.2364                  0.07678",
      "text/html": "<div>\n<style scoped>\n    .dataframe tbody tr th:only-of-type {\n        vertical-align: middle;\n    }\n\n    .dataframe tbody tr th {\n        vertical-align: top;\n    }\n\n    .dataframe thead th {\n        text-align: right;\n    }\n</style>\n<table border=\"1\" class=\"dataframe\">\n  <thead>\n    <tr style=\"text-align: right;\">\n      <th></th>\n      <th>diagnosis</th>\n      <th>radius_mean</th>\n      <th>texture_mean</th>\n      <th>perimeter_mean</th>\n      <th>area_mean</th>\n      <th>smoothness_mean</th>\n      <th>compactness_mean</th>\n      <th>concavity_mean</th>\n      <th>concave points_mean</th>\n      <th>symmetry_mean</th>\n      <th>fractal_dimension_mean</th>\n      <th>radius_se</th>\n      <th>texture_se</th>\n      <th>perimeter_se</th>\n      <th>area_se</th>\n      <th>smoothness_se</th>\n      <th>compactness_se</th>\n      <th>concavity_se</th>\n      <th>concave points_se</th>\n      <th>symmetry_se</th>\n      <th>fractal_dimension_se</th>\n      <th>radius_worst</th>\n      <th>texture_worst</th>\n      <th>perimeter_worst</th>\n      <th>area_worst</th>\n      <th>smoothness_worst</th>\n      <th>compactness_worst</th>\n      <th>concavity_worst</th>\n      <th>concave points_worst</th>\n      <th>symmetry_worst</th>\n      <th>fractal_dimension_worst</th>\n    </tr>\n  </thead>\n  <tbody>\n    <tr>\n      <th>0</th>\n      <td>M</td>\n      <td>17.99</td>\n      <td>10.38</td>\n      <td>122.80</td>\n      <td>1001.0</td>\n      <td>0.11840</td>\n      <td>0.27760</td>\n      <td>0.3001</td>\n      <td>0.14710</td>\n      <td>0.2419</td>\n      <td>0.07871</td>\n      <td>1.0950</td>\n      <td>0.9053</td>\n      <td>8.589</td>\n      <td>153.40</td>\n      <td>0.006399</td>\n      <td>0.04904</td>\n      <td>0.05373</td>\n      <td>0.01587</td>\n      <td>0.03003</td>\n      <td>0.006193</td>\n      <td>25.38</td>\n      <td>17.33</td>\n      <td>184.60</td>\n      <td>2019.0</td>\n      <td>0.1622</td>\n      <td>0.6656</td>\n      <td>0.7119</td>\n      <td>0.2654</td>\n      <td>0.4601</td>\n      <td>0.11890</td>\n    </tr>\n    <tr>\n      <th>1</th>\n      <td>M</td>\n      <td>20.57</td>\n      <td>17.77</td>\n      <td>132.90</td>\n      <td>1326.0</td>\n      <td>0.08474</td>\n      <td>0.07864</td>\n      <td>0.0869</td>\n      <td>0.07017</td>\n      <td>0.1812</td>\n      <td>0.05667</td>\n      <td>0.5435</td>\n      <td>0.7339</td>\n      <td>3.398</td>\n      <td>74.08</td>\n      <td>0.005225</td>\n      <td>0.01308</td>\n      <td>0.01860</td>\n      <td>0.01340</td>\n      <td>0.01389</td>\n      <td>0.003532</td>\n      <td>24.99</td>\n      <td>23.41</td>\n      <td>158.80</td>\n      <td>1956.0</td>\n      <td>0.1238</td>\n      <td>0.1866</td>\n      <td>0.2416</td>\n      <td>0.1860</td>\n      <td>0.2750</td>\n      <td>0.08902</td>\n    </tr>\n    <tr>\n      <th>2</th>\n      <td>M</td>\n      <td>19.69</td>\n      <td>21.25</td>\n      <td>130.00</td>\n      <td>1203.0</td>\n      <td>0.10960</td>\n      <td>0.15990</td>\n      <td>0.1974</td>\n      <td>0.12790</td>\n      <td>0.2069</td>\n      <td>0.05999</td>\n      <td>0.7456</td>\n      <td>0.7869</td>\n      <td>4.585</td>\n      <td>94.03</td>\n      <td>0.006150</td>\n      <td>0.04006</td>\n      <td>0.03832</td>\n      <td>0.02058</td>\n      <td>0.02250</td>\n      <td>0.004571</td>\n      <td>23.57</td>\n      <td>25.53</td>\n      <td>152.50</td>\n      <td>1709.0</td>\n      <td>0.1444</td>\n      <td>0.4245</td>\n      <td>0.4504</td>\n      <td>0.2430</td>\n      <td>0.3613</td>\n      <td>0.08758</td>\n    </tr>\n    <tr>\n      <th>3</th>\n      <td>M</td>\n      <td>11.42</td>\n      <td>20.38</td>\n      <td>77.58</td>\n      <td>386.1</td>\n      <td>0.14250</td>\n      <td>0.28390</td>\n      <td>0.2414</td>\n      <td>0.10520</td>\n      <td>0.2597</td>\n      <td>0.09744</td>\n      <td>0.4956</td>\n      <td>1.1560</td>\n      <td>3.445</td>\n      <td>27.23</td>\n      <td>0.009110</td>\n      <td>0.07458</td>\n      <td>0.05661</td>\n      <td>0.01867</td>\n      <td>0.05963</td>\n      <td>0.009208</td>\n      <td>14.91</td>\n      <td>26.50</td>\n      <td>98.87</td>\n      <td>567.7</td>\n      <td>0.2098</td>\n      <td>0.8663</td>\n      <td>0.6869</td>\n      <td>0.2575</td>\n      <td>0.6638</td>\n      <td>0.17300</td>\n    </tr>\n    <tr>\n      <th>4</th>\n      <td>M</td>\n      <td>20.29</td>\n      <td>14.34</td>\n      <td>135.10</td>\n      <td>1297.0</td>\n      <td>0.10030</td>\n      <td>0.13280</td>\n      <td>0.1980</td>\n      <td>0.10430</td>\n      <td>0.1809</td>\n      <td>0.05883</td>\n      <td>0.7572</td>\n      <td>0.7813</td>\n      <td>5.438</td>\n      <td>94.44</td>\n      <td>0.011490</td>\n      <td>0.02461</td>\n      <td>0.05688</td>\n      <td>0.01885</td>\n      <td>0.01756</td>\n      <td>0.005115</td>\n      <td>22.54</td>\n      <td>16.67</td>\n      <td>152.20</td>\n      <td>1575.0</td>\n      <td>0.1374</td>\n      <td>0.2050</td>\n      <td>0.4000</td>\n      <td>0.1625</td>\n      <td>0.2364</td>\n      <td>0.07678</td>\n    </tr>\n  </tbody>\n</table>\n</div>"
     },
     "execution_count": 23,
     "metadata": {},
     "output_type": "execute_result"
    }
   ],
   "source": [
    "from EDA import high_corr_cols\n",
    "\n",
    "df = pd.read_csv(\"breast_cancer.csv\")\n",
    "df = df.iloc[:, 1:-1]\n",
    "df.head()"
   ],
   "metadata": {
    "collapsed": false,
    "pycharm": {
     "name": "#%%\n"
    }
   }
  },
  {
   "cell_type": "code",
   "execution_count": 24,
   "outputs": [
    {
     "name": "stdout",
     "output_type": "stream",
     "text": [
      "Observations: 569\n",
      "Variables: 31\n",
      "cat_cols: 1\n",
      "num_cols: 30\n",
      "cat_but_car: 0\n",
      "num_but_cat: 0\n"
     ]
    }
   ],
   "source": [
    "cat_cols, num_cols, cat_but_car = grab_col_names(df)"
   ],
   "metadata": {
    "collapsed": false,
    "pycharm": {
     "name": "#%%\n"
    }
   }
  },
  {
   "cell_type": "code",
   "execution_count": 25,
   "outputs": [
    {
     "data": {
      "text/plain": "                         radius_mean  texture_mean  perimeter_mean  area_mean  smoothness_mean  compactness_mean  concavity_mean  concave points_mean  symmetry_mean  fractal_dimension_mean  radius_se  texture_se  perimeter_se   area_se  smoothness_se  compactness_se  concavity_se  concave points_se  symmetry_se  fractal_dimension_se  radius_worst  texture_worst  perimeter_worst  area_worst  smoothness_worst  compactness_worst  concavity_worst  concave points_worst  symmetry_worst  \\\nradius_mean                 1.000000      0.323782        0.997855   0.987357         0.170581          0.506124        0.676764             0.822529       0.147741               -0.311631   0.679090   -0.097317      0.674172  0.735864      -0.222600        0.206000      0.194204           0.376169    -0.104321             -0.042641      0.969539       0.297008         0.965137    0.941082          0.119616           0.413463         0.526911              0.744214        0.163953   \ntexture_mean                0.323782      1.000000        0.329533   0.321086        -0.023389          0.236702        0.302418             0.293464       0.071401               -0.076437   0.275869    0.386358      0.281673  0.259845       0.006614        0.191975      0.143293           0.163851     0.009127              0.054458      0.352573       0.912045         0.358040    0.343546          0.077503           0.277830         0.301025              0.295316        0.105008   \nperimeter_mean              0.997855      0.329533        1.000000   0.986507         0.207278          0.556936        0.716136             0.850977       0.183027               -0.261477   0.691765   -0.086761      0.693135  0.744983      -0.202694        0.250744      0.228082           0.407217    -0.081629             -0.005523      0.969476       0.303038         0.970387    0.941550          0.150549           0.455774         0.563879              0.771241        0.189115   \narea_mean                   0.987357      0.321086        0.986507   1.000000         0.177028          0.498502        0.685983             0.823269       0.151293               -0.283110   0.732562   -0.066280      0.726628  0.800086      -0.166777        0.212583      0.207660           0.372320    -0.072497             -0.019887      0.962746       0.287489         0.959120    0.959213          0.123523           0.390410         0.512606              0.722017        0.143570   \nsmoothness_mean             0.170581     -0.023389        0.207278   0.177028         1.000000          0.659123        0.521984             0.553695       0.557775                0.584792   0.301467    0.068406      0.296092  0.246552       0.332375        0.318943      0.248396           0.380676     0.200774              0.283607      0.213120       0.036072         0.238853    0.206718          0.805324           0.472468         0.434926              0.503053        0.394309   \ncompactness_mean            0.506124      0.236702        0.556936   0.498502         0.659123          1.000000        0.883121             0.831135       0.602641                0.565369   0.497473    0.046205      0.548905  0.455653       0.135299        0.738722      0.570517           0.642262     0.229977              0.507318      0.535315       0.248133         0.590210    0.509604          0.565541           0.865809         0.816275              0.815573        0.510223   \nconcavity_mean              0.676764      0.302418        0.716136   0.685983         0.521984          0.883121        1.000000             0.921391       0.500667                0.336783   0.631925    0.076218      0.660391  0.617427       0.098564        0.670279      0.691270           0.683260     0.178009              0.449301      0.688236       0.299879         0.729565    0.675987          0.448822           0.754968         0.884103              0.861323        0.409464   \nconcave points_mean         0.822529      0.293464        0.850977   0.823269         0.553695          0.831135        0.921391             1.000000       0.462497                0.166917   0.698050    0.021480      0.710650  0.690299       0.027653        0.490424      0.439167           0.615634     0.095351              0.257584      0.830318       0.292752         0.855923    0.809630          0.452753           0.667454         0.752399              0.910155        0.375744   \nsymmetry_mean               0.147741      0.071401        0.183027   0.151293         0.557775          0.602641        0.500667             0.462497       1.000000                0.479921   0.303379    0.128053      0.313893  0.223970       0.187321        0.421659      0.342627           0.393298     0.449137              0.331786      0.185728       0.090651         0.219169    0.177193          0.426675           0.473200         0.433721              0.430297        0.699826   \nfractal_dimension_mean     -0.311631     -0.076437       -0.261477  -0.283110         0.584792          0.565369        0.336783             0.166917       0.479921                1.000000   0.000111    0.164174      0.039830 -0.090170       0.401964        0.559837      0.446630           0.341198     0.345007              0.688132     -0.253691      -0.051269        -0.205151   -0.231854          0.504942           0.458798         0.346234              0.175325        0.334019   \nradius_se                   0.679090      0.275869        0.691765   0.732562         0.301467          0.497473        0.631925             0.698050       0.303379                0.000111   1.000000    0.213247      0.972794  0.951830       0.164514        0.356065      0.332358           0.513346     0.240567              0.227754      0.715065       0.194799         0.719684    0.751548          0.141919           0.287103         0.380585              0.531062        0.094543   \ntexture_se                 -0.097317      0.386358       -0.086761  -0.066280         0.068406          0.046205        0.076218             0.021480       0.128053                0.164174   0.213247    1.000000      0.223171  0.111567       0.397243        0.231700      0.194998           0.230283     0.411621              0.279723     -0.111690       0.409003        -0.102242   -0.083195         -0.073658          -0.092439        -0.068956             -0.119638       -0.128215   \nperimeter_se                0.674172      0.281673        0.693135   0.726628         0.296092          0.548905        0.660391             0.710650       0.313893                0.039830   0.972794    0.223171      1.000000  0.937655       0.151075        0.416322      0.362482           0.556264     0.266487              0.244143      0.697201       0.200371         0.721031    0.730713          0.130054           0.341919         0.418899              0.554897        0.109930   \narea_se                     0.735864      0.259845        0.744983   0.800086         0.246552          0.455653        0.617427             0.690299       0.223970               -0.090170   0.951830    0.111567      0.937655  1.000000       0.075150        0.284840      0.270895           0.415730     0.134109              0.127071      0.757373       0.196497         0.761213    0.811408          0.125389           0.283257         0.385100              0.538166        0.074126   \nsmoothness_se              -0.222600      0.006614       -0.202694  -0.166777         0.332375          0.135299        0.098564             0.027653       0.187321                0.401964   0.164514    0.397243      0.151075  0.075150       1.000000        0.336696      0.268685           0.328429     0.413506              0.427374     -0.230691      -0.074743        -0.217304   -0.182195          0.314457          -0.055558        -0.058298             -0.102007       -0.107342   \ncompactness_se              0.206000      0.191975        0.250744   0.212583         0.318943          0.738722        0.670279             0.490424       0.421659                0.559837   0.356065    0.231700      0.416322  0.284840       0.336696        1.000000      0.801268           0.744083     0.394713              0.803269      0.204607       0.143003         0.260516    0.199371          0.227394           0.678780         0.639147              0.483208        0.277878   \nconcavity_se                0.194204      0.143293        0.228082   0.207660         0.248396          0.570517        0.691270             0.439167       0.342627                0.446630   0.332358    0.194998      0.362482  0.270895       0.268685        0.801268      1.000000           0.771804     0.309429              0.727372      0.186904       0.100241         0.226680    0.188353          0.168481           0.484858         0.662564              0.440472        0.197788   \nconcave points_se           0.376169      0.163851        0.407217   0.372320         0.380676          0.642262        0.683260             0.615634       0.393298                0.341198   0.513346    0.230283      0.556264  0.415730       0.328429        0.744083      0.771804           1.000000     0.312780              0.611044      0.358127       0.086741         0.394999    0.342271          0.215351           0.452888         0.549592              0.602450        0.143116   \nsymmetry_se                -0.104321      0.009127       -0.081629  -0.072497         0.200774          0.229977        0.178009             0.095351       0.449137                0.345007   0.240567    0.411621      0.266487  0.134109       0.413506        0.394713      0.309429           0.312780     1.000000              0.369078     -0.128121      -0.077473        -0.103753   -0.110343         -0.012662           0.060255         0.037119             -0.030413        0.389402   \nfractal_dimension_se       -0.042641      0.054458       -0.005523  -0.019887         0.283607          0.507318        0.449301             0.257584       0.331786                0.688132   0.227754    0.279723      0.244143  0.127071       0.427374        0.803269      0.727372           0.611044     0.369078              1.000000     -0.037488      -0.003195        -0.001000   -0.022736          0.170568           0.390159         0.379975              0.215204        0.111094   \nradius_worst                0.969539      0.352573        0.969476   0.962746         0.213120          0.535315        0.688236             0.830318       0.185728               -0.253691   0.715065   -0.111690      0.697201  0.757373      -0.230691        0.204607      0.186904           0.358127    -0.128121             -0.037488      1.000000       0.359921         0.993708    0.984015          0.216574           0.475820         0.573975              0.787424        0.243529   \ntexture_worst               0.297008      0.912045        0.303038   0.287489         0.036072          0.248133        0.299879             0.292752       0.090651               -0.051269   0.194799    0.409003      0.200371  0.196497      -0.074743        0.143003      0.100241           0.086741    -0.077473             -0.003195      0.359921       1.000000         0.365098    0.345842          0.225429           0.360832         0.368366              0.359755        0.233027   \nperimeter_worst             0.965137      0.358040        0.970387   0.959120         0.238853          0.590210        0.729565             0.855923       0.219169               -0.205151   0.719684   -0.102242      0.721031  0.761213      -0.217304        0.260516      0.226680           0.394999    -0.103753             -0.001000      0.993708       0.365098         1.000000    0.977578          0.236775           0.529408         0.618344              0.816322        0.269493   \narea_worst                  0.941082      0.343546        0.941550   0.959213         0.206718          0.509604        0.675987             0.809630       0.177193               -0.231854   0.751548   -0.083195      0.730713  0.811408      -0.182195        0.199371      0.188353           0.342271    -0.110343             -0.022736      0.984015       0.345842         0.977578    1.000000          0.209145           0.438296         0.543331              0.747419        0.209146   \nsmoothness_worst            0.119616      0.077503        0.150549   0.123523         0.805324          0.565541        0.448822             0.452753       0.426675                0.504942   0.141919   -0.073658      0.130054  0.125389       0.314457        0.227394      0.168481           0.215351    -0.012662              0.170568      0.216574       0.225429         0.236775    0.209145          1.000000           0.568187         0.518523              0.547691        0.493838   \ncompactness_worst           0.413463      0.277830        0.455774   0.390410         0.472468          0.865809        0.754968             0.667454       0.473200                0.458798   0.287103   -0.092439      0.341919  0.283257      -0.055558        0.678780      0.484858           0.452888     0.060255              0.390159      0.475820       0.360832         0.529408    0.438296          0.568187           1.000000         0.892261              0.801080        0.614441   \nconcavity_worst             0.526911      0.301025        0.563879   0.512606         0.434926          0.816275        0.884103             0.752399       0.433721                0.346234   0.380585   -0.068956      0.418899  0.385100      -0.058298        0.639147      0.662564           0.549592     0.037119              0.379975      0.573975       0.368366         0.618344    0.543331          0.518523           0.892261         1.000000              0.855434        0.532520   \nconcave points_worst        0.744214      0.295316        0.771241   0.722017         0.503053          0.815573        0.861323             0.910155       0.430297                0.175325   0.531062   -0.119638      0.554897  0.538166      -0.102007        0.483208      0.440472           0.602450    -0.030413              0.215204      0.787424       0.359755         0.816322    0.747419          0.547691           0.801080         0.855434              1.000000        0.502528   \nsymmetry_worst              0.163953      0.105008        0.189115   0.143570         0.394309          0.510223        0.409464             0.375744       0.699826                0.334019   0.094543   -0.128215      0.109930  0.074126      -0.107342        0.277878      0.197788           0.143116     0.389402              0.111094      0.243529       0.233027         0.269493    0.209146          0.493838           0.614441         0.532520              0.502528        1.000000   \nfractal_dimension_worst     0.007066      0.119205        0.051019   0.003738         0.499316          0.687382        0.514930             0.368661       0.438413                0.767297   0.049559   -0.045655      0.085433  0.017539       0.101480        0.590973      0.439329           0.310655     0.078079              0.591328      0.093492       0.219122         0.138957    0.079647          0.617624           0.810455         0.686511              0.511114        0.537848   \n\n                         fractal_dimension_worst  \nradius_mean                             0.007066  \ntexture_mean                            0.119205  \nperimeter_mean                          0.051019  \narea_mean                               0.003738  \nsmoothness_mean                         0.499316  \ncompactness_mean                        0.687382  \nconcavity_mean                          0.514930  \nconcave points_mean                     0.368661  \nsymmetry_mean                           0.438413  \nfractal_dimension_mean                  0.767297  \nradius_se                               0.049559  \ntexture_se                             -0.045655  \nperimeter_se                            0.085433  \narea_se                                 0.017539  \nsmoothness_se                           0.101480  \ncompactness_se                          0.590973  \nconcavity_se                            0.439329  \nconcave points_se                       0.310655  \nsymmetry_se                             0.078079  \nfractal_dimension_se                    0.591328  \nradius_worst                            0.093492  \ntexture_worst                           0.219122  \nperimeter_worst                         0.138957  \narea_worst                              0.079647  \nsmoothness_worst                        0.617624  \ncompactness_worst                       0.810455  \nconcavity_worst                         0.686511  \nconcave points_worst                    0.511114  \nsymmetry_worst                          0.537848  \nfractal_dimension_worst                 1.000000  ",
      "text/html": "<div>\n<style scoped>\n    .dataframe tbody tr th:only-of-type {\n        vertical-align: middle;\n    }\n\n    .dataframe tbody tr th {\n        vertical-align: top;\n    }\n\n    .dataframe thead th {\n        text-align: right;\n    }\n</style>\n<table border=\"1\" class=\"dataframe\">\n  <thead>\n    <tr style=\"text-align: right;\">\n      <th></th>\n      <th>radius_mean</th>\n      <th>texture_mean</th>\n      <th>perimeter_mean</th>\n      <th>area_mean</th>\n      <th>smoothness_mean</th>\n      <th>compactness_mean</th>\n      <th>concavity_mean</th>\n      <th>concave points_mean</th>\n      <th>symmetry_mean</th>\n      <th>fractal_dimension_mean</th>\n      <th>radius_se</th>\n      <th>texture_se</th>\n      <th>perimeter_se</th>\n      <th>area_se</th>\n      <th>smoothness_se</th>\n      <th>compactness_se</th>\n      <th>concavity_se</th>\n      <th>concave points_se</th>\n      <th>symmetry_se</th>\n      <th>fractal_dimension_se</th>\n      <th>radius_worst</th>\n      <th>texture_worst</th>\n      <th>perimeter_worst</th>\n      <th>area_worst</th>\n      <th>smoothness_worst</th>\n      <th>compactness_worst</th>\n      <th>concavity_worst</th>\n      <th>concave points_worst</th>\n      <th>symmetry_worst</th>\n      <th>fractal_dimension_worst</th>\n    </tr>\n  </thead>\n  <tbody>\n    <tr>\n      <th>radius_mean</th>\n      <td>1.000000</td>\n      <td>0.323782</td>\n      <td>0.997855</td>\n      <td>0.987357</td>\n      <td>0.170581</td>\n      <td>0.506124</td>\n      <td>0.676764</td>\n      <td>0.822529</td>\n      <td>0.147741</td>\n      <td>-0.311631</td>\n      <td>0.679090</td>\n      <td>-0.097317</td>\n      <td>0.674172</td>\n      <td>0.735864</td>\n      <td>-0.222600</td>\n      <td>0.206000</td>\n      <td>0.194204</td>\n      <td>0.376169</td>\n      <td>-0.104321</td>\n      <td>-0.042641</td>\n      <td>0.969539</td>\n      <td>0.297008</td>\n      <td>0.965137</td>\n      <td>0.941082</td>\n      <td>0.119616</td>\n      <td>0.413463</td>\n      <td>0.526911</td>\n      <td>0.744214</td>\n      <td>0.163953</td>\n      <td>0.007066</td>\n    </tr>\n    <tr>\n      <th>texture_mean</th>\n      <td>0.323782</td>\n      <td>1.000000</td>\n      <td>0.329533</td>\n      <td>0.321086</td>\n      <td>-0.023389</td>\n      <td>0.236702</td>\n      <td>0.302418</td>\n      <td>0.293464</td>\n      <td>0.071401</td>\n      <td>-0.076437</td>\n      <td>0.275869</td>\n      <td>0.386358</td>\n      <td>0.281673</td>\n      <td>0.259845</td>\n      <td>0.006614</td>\n      <td>0.191975</td>\n      <td>0.143293</td>\n      <td>0.163851</td>\n      <td>0.009127</td>\n      <td>0.054458</td>\n      <td>0.352573</td>\n      <td>0.912045</td>\n      <td>0.358040</td>\n      <td>0.343546</td>\n      <td>0.077503</td>\n      <td>0.277830</td>\n      <td>0.301025</td>\n      <td>0.295316</td>\n      <td>0.105008</td>\n      <td>0.119205</td>\n    </tr>\n    <tr>\n      <th>perimeter_mean</th>\n      <td>0.997855</td>\n      <td>0.329533</td>\n      <td>1.000000</td>\n      <td>0.986507</td>\n      <td>0.207278</td>\n      <td>0.556936</td>\n      <td>0.716136</td>\n      <td>0.850977</td>\n      <td>0.183027</td>\n      <td>-0.261477</td>\n      <td>0.691765</td>\n      <td>-0.086761</td>\n      <td>0.693135</td>\n      <td>0.744983</td>\n      <td>-0.202694</td>\n      <td>0.250744</td>\n      <td>0.228082</td>\n      <td>0.407217</td>\n      <td>-0.081629</td>\n      <td>-0.005523</td>\n      <td>0.969476</td>\n      <td>0.303038</td>\n      <td>0.970387</td>\n      <td>0.941550</td>\n      <td>0.150549</td>\n      <td>0.455774</td>\n      <td>0.563879</td>\n      <td>0.771241</td>\n      <td>0.189115</td>\n      <td>0.051019</td>\n    </tr>\n    <tr>\n      <th>area_mean</th>\n      <td>0.987357</td>\n      <td>0.321086</td>\n      <td>0.986507</td>\n      <td>1.000000</td>\n      <td>0.177028</td>\n      <td>0.498502</td>\n      <td>0.685983</td>\n      <td>0.823269</td>\n      <td>0.151293</td>\n      <td>-0.283110</td>\n      <td>0.732562</td>\n      <td>-0.066280</td>\n      <td>0.726628</td>\n      <td>0.800086</td>\n      <td>-0.166777</td>\n      <td>0.212583</td>\n      <td>0.207660</td>\n      <td>0.372320</td>\n      <td>-0.072497</td>\n      <td>-0.019887</td>\n      <td>0.962746</td>\n      <td>0.287489</td>\n      <td>0.959120</td>\n      <td>0.959213</td>\n      <td>0.123523</td>\n      <td>0.390410</td>\n      <td>0.512606</td>\n      <td>0.722017</td>\n      <td>0.143570</td>\n      <td>0.003738</td>\n    </tr>\n    <tr>\n      <th>smoothness_mean</th>\n      <td>0.170581</td>\n      <td>-0.023389</td>\n      <td>0.207278</td>\n      <td>0.177028</td>\n      <td>1.000000</td>\n      <td>0.659123</td>\n      <td>0.521984</td>\n      <td>0.553695</td>\n      <td>0.557775</td>\n      <td>0.584792</td>\n      <td>0.301467</td>\n      <td>0.068406</td>\n      <td>0.296092</td>\n      <td>0.246552</td>\n      <td>0.332375</td>\n      <td>0.318943</td>\n      <td>0.248396</td>\n      <td>0.380676</td>\n      <td>0.200774</td>\n      <td>0.283607</td>\n      <td>0.213120</td>\n      <td>0.036072</td>\n      <td>0.238853</td>\n      <td>0.206718</td>\n      <td>0.805324</td>\n      <td>0.472468</td>\n      <td>0.434926</td>\n      <td>0.503053</td>\n      <td>0.394309</td>\n      <td>0.499316</td>\n    </tr>\n    <tr>\n      <th>compactness_mean</th>\n      <td>0.506124</td>\n      <td>0.236702</td>\n      <td>0.556936</td>\n      <td>0.498502</td>\n      <td>0.659123</td>\n      <td>1.000000</td>\n      <td>0.883121</td>\n      <td>0.831135</td>\n      <td>0.602641</td>\n      <td>0.565369</td>\n      <td>0.497473</td>\n      <td>0.046205</td>\n      <td>0.548905</td>\n      <td>0.455653</td>\n      <td>0.135299</td>\n      <td>0.738722</td>\n      <td>0.570517</td>\n      <td>0.642262</td>\n      <td>0.229977</td>\n      <td>0.507318</td>\n      <td>0.535315</td>\n      <td>0.248133</td>\n      <td>0.590210</td>\n      <td>0.509604</td>\n      <td>0.565541</td>\n      <td>0.865809</td>\n      <td>0.816275</td>\n      <td>0.815573</td>\n      <td>0.510223</td>\n      <td>0.687382</td>\n    </tr>\n    <tr>\n      <th>concavity_mean</th>\n      <td>0.676764</td>\n      <td>0.302418</td>\n      <td>0.716136</td>\n      <td>0.685983</td>\n      <td>0.521984</td>\n      <td>0.883121</td>\n      <td>1.000000</td>\n      <td>0.921391</td>\n      <td>0.500667</td>\n      <td>0.336783</td>\n      <td>0.631925</td>\n      <td>0.076218</td>\n      <td>0.660391</td>\n      <td>0.617427</td>\n      <td>0.098564</td>\n      <td>0.670279</td>\n      <td>0.691270</td>\n      <td>0.683260</td>\n      <td>0.178009</td>\n      <td>0.449301</td>\n      <td>0.688236</td>\n      <td>0.299879</td>\n      <td>0.729565</td>\n      <td>0.675987</td>\n      <td>0.448822</td>\n      <td>0.754968</td>\n      <td>0.884103</td>\n      <td>0.861323</td>\n      <td>0.409464</td>\n      <td>0.514930</td>\n    </tr>\n    <tr>\n      <th>concave points_mean</th>\n      <td>0.822529</td>\n      <td>0.293464</td>\n      <td>0.850977</td>\n      <td>0.823269</td>\n      <td>0.553695</td>\n      <td>0.831135</td>\n      <td>0.921391</td>\n      <td>1.000000</td>\n      <td>0.462497</td>\n      <td>0.166917</td>\n      <td>0.698050</td>\n      <td>0.021480</td>\n      <td>0.710650</td>\n      <td>0.690299</td>\n      <td>0.027653</td>\n      <td>0.490424</td>\n      <td>0.439167</td>\n      <td>0.615634</td>\n      <td>0.095351</td>\n      <td>0.257584</td>\n      <td>0.830318</td>\n      <td>0.292752</td>\n      <td>0.855923</td>\n      <td>0.809630</td>\n      <td>0.452753</td>\n      <td>0.667454</td>\n      <td>0.752399</td>\n      <td>0.910155</td>\n      <td>0.375744</td>\n      <td>0.368661</td>\n    </tr>\n    <tr>\n      <th>symmetry_mean</th>\n      <td>0.147741</td>\n      <td>0.071401</td>\n      <td>0.183027</td>\n      <td>0.151293</td>\n      <td>0.557775</td>\n      <td>0.602641</td>\n      <td>0.500667</td>\n      <td>0.462497</td>\n      <td>1.000000</td>\n      <td>0.479921</td>\n      <td>0.303379</td>\n      <td>0.128053</td>\n      <td>0.313893</td>\n      <td>0.223970</td>\n      <td>0.187321</td>\n      <td>0.421659</td>\n      <td>0.342627</td>\n      <td>0.393298</td>\n      <td>0.449137</td>\n      <td>0.331786</td>\n      <td>0.185728</td>\n      <td>0.090651</td>\n      <td>0.219169</td>\n      <td>0.177193</td>\n      <td>0.426675</td>\n      <td>0.473200</td>\n      <td>0.433721</td>\n      <td>0.430297</td>\n      <td>0.699826</td>\n      <td>0.438413</td>\n    </tr>\n    <tr>\n      <th>fractal_dimension_mean</th>\n      <td>-0.311631</td>\n      <td>-0.076437</td>\n      <td>-0.261477</td>\n      <td>-0.283110</td>\n      <td>0.584792</td>\n      <td>0.565369</td>\n      <td>0.336783</td>\n      <td>0.166917</td>\n      <td>0.479921</td>\n      <td>1.000000</td>\n      <td>0.000111</td>\n      <td>0.164174</td>\n      <td>0.039830</td>\n      <td>-0.090170</td>\n      <td>0.401964</td>\n      <td>0.559837</td>\n      <td>0.446630</td>\n      <td>0.341198</td>\n      <td>0.345007</td>\n      <td>0.688132</td>\n      <td>-0.253691</td>\n      <td>-0.051269</td>\n      <td>-0.205151</td>\n      <td>-0.231854</td>\n      <td>0.504942</td>\n      <td>0.458798</td>\n      <td>0.346234</td>\n      <td>0.175325</td>\n      <td>0.334019</td>\n      <td>0.767297</td>\n    </tr>\n    <tr>\n      <th>radius_se</th>\n      <td>0.679090</td>\n      <td>0.275869</td>\n      <td>0.691765</td>\n      <td>0.732562</td>\n      <td>0.301467</td>\n      <td>0.497473</td>\n      <td>0.631925</td>\n      <td>0.698050</td>\n      <td>0.303379</td>\n      <td>0.000111</td>\n      <td>1.000000</td>\n      <td>0.213247</td>\n      <td>0.972794</td>\n      <td>0.951830</td>\n      <td>0.164514</td>\n      <td>0.356065</td>\n      <td>0.332358</td>\n      <td>0.513346</td>\n      <td>0.240567</td>\n      <td>0.227754</td>\n      <td>0.715065</td>\n      <td>0.194799</td>\n      <td>0.719684</td>\n      <td>0.751548</td>\n      <td>0.141919</td>\n      <td>0.287103</td>\n      <td>0.380585</td>\n      <td>0.531062</td>\n      <td>0.094543</td>\n      <td>0.049559</td>\n    </tr>\n    <tr>\n      <th>texture_se</th>\n      <td>-0.097317</td>\n      <td>0.386358</td>\n      <td>-0.086761</td>\n      <td>-0.066280</td>\n      <td>0.068406</td>\n      <td>0.046205</td>\n      <td>0.076218</td>\n      <td>0.021480</td>\n      <td>0.128053</td>\n      <td>0.164174</td>\n      <td>0.213247</td>\n      <td>1.000000</td>\n      <td>0.223171</td>\n      <td>0.111567</td>\n      <td>0.397243</td>\n      <td>0.231700</td>\n      <td>0.194998</td>\n      <td>0.230283</td>\n      <td>0.411621</td>\n      <td>0.279723</td>\n      <td>-0.111690</td>\n      <td>0.409003</td>\n      <td>-0.102242</td>\n      <td>-0.083195</td>\n      <td>-0.073658</td>\n      <td>-0.092439</td>\n      <td>-0.068956</td>\n      <td>-0.119638</td>\n      <td>-0.128215</td>\n      <td>-0.045655</td>\n    </tr>\n    <tr>\n      <th>perimeter_se</th>\n      <td>0.674172</td>\n      <td>0.281673</td>\n      <td>0.693135</td>\n      <td>0.726628</td>\n      <td>0.296092</td>\n      <td>0.548905</td>\n      <td>0.660391</td>\n      <td>0.710650</td>\n      <td>0.313893</td>\n      <td>0.039830</td>\n      <td>0.972794</td>\n      <td>0.223171</td>\n      <td>1.000000</td>\n      <td>0.937655</td>\n      <td>0.151075</td>\n      <td>0.416322</td>\n      <td>0.362482</td>\n      <td>0.556264</td>\n      <td>0.266487</td>\n      <td>0.244143</td>\n      <td>0.697201</td>\n      <td>0.200371</td>\n      <td>0.721031</td>\n      <td>0.730713</td>\n      <td>0.130054</td>\n      <td>0.341919</td>\n      <td>0.418899</td>\n      <td>0.554897</td>\n      <td>0.109930</td>\n      <td>0.085433</td>\n    </tr>\n    <tr>\n      <th>area_se</th>\n      <td>0.735864</td>\n      <td>0.259845</td>\n      <td>0.744983</td>\n      <td>0.800086</td>\n      <td>0.246552</td>\n      <td>0.455653</td>\n      <td>0.617427</td>\n      <td>0.690299</td>\n      <td>0.223970</td>\n      <td>-0.090170</td>\n      <td>0.951830</td>\n      <td>0.111567</td>\n      <td>0.937655</td>\n      <td>1.000000</td>\n      <td>0.075150</td>\n      <td>0.284840</td>\n      <td>0.270895</td>\n      <td>0.415730</td>\n      <td>0.134109</td>\n      <td>0.127071</td>\n      <td>0.757373</td>\n      <td>0.196497</td>\n      <td>0.761213</td>\n      <td>0.811408</td>\n      <td>0.125389</td>\n      <td>0.283257</td>\n      <td>0.385100</td>\n      <td>0.538166</td>\n      <td>0.074126</td>\n      <td>0.017539</td>\n    </tr>\n    <tr>\n      <th>smoothness_se</th>\n      <td>-0.222600</td>\n      <td>0.006614</td>\n      <td>-0.202694</td>\n      <td>-0.166777</td>\n      <td>0.332375</td>\n      <td>0.135299</td>\n      <td>0.098564</td>\n      <td>0.027653</td>\n      <td>0.187321</td>\n      <td>0.401964</td>\n      <td>0.164514</td>\n      <td>0.397243</td>\n      <td>0.151075</td>\n      <td>0.075150</td>\n      <td>1.000000</td>\n      <td>0.336696</td>\n      <td>0.268685</td>\n      <td>0.328429</td>\n      <td>0.413506</td>\n      <td>0.427374</td>\n      <td>-0.230691</td>\n      <td>-0.074743</td>\n      <td>-0.217304</td>\n      <td>-0.182195</td>\n      <td>0.314457</td>\n      <td>-0.055558</td>\n      <td>-0.058298</td>\n      <td>-0.102007</td>\n      <td>-0.107342</td>\n      <td>0.101480</td>\n    </tr>\n    <tr>\n      <th>compactness_se</th>\n      <td>0.206000</td>\n      <td>0.191975</td>\n      <td>0.250744</td>\n      <td>0.212583</td>\n      <td>0.318943</td>\n      <td>0.738722</td>\n      <td>0.670279</td>\n      <td>0.490424</td>\n      <td>0.421659</td>\n      <td>0.559837</td>\n      <td>0.356065</td>\n      <td>0.231700</td>\n      <td>0.416322</td>\n      <td>0.284840</td>\n      <td>0.336696</td>\n      <td>1.000000</td>\n      <td>0.801268</td>\n      <td>0.744083</td>\n      <td>0.394713</td>\n      <td>0.803269</td>\n      <td>0.204607</td>\n      <td>0.143003</td>\n      <td>0.260516</td>\n      <td>0.199371</td>\n      <td>0.227394</td>\n      <td>0.678780</td>\n      <td>0.639147</td>\n      <td>0.483208</td>\n      <td>0.277878</td>\n      <td>0.590973</td>\n    </tr>\n    <tr>\n      <th>concavity_se</th>\n      <td>0.194204</td>\n      <td>0.143293</td>\n      <td>0.228082</td>\n      <td>0.207660</td>\n      <td>0.248396</td>\n      <td>0.570517</td>\n      <td>0.691270</td>\n      <td>0.439167</td>\n      <td>0.342627</td>\n      <td>0.446630</td>\n      <td>0.332358</td>\n      <td>0.194998</td>\n      <td>0.362482</td>\n      <td>0.270895</td>\n      <td>0.268685</td>\n      <td>0.801268</td>\n      <td>1.000000</td>\n      <td>0.771804</td>\n      <td>0.309429</td>\n      <td>0.727372</td>\n      <td>0.186904</td>\n      <td>0.100241</td>\n      <td>0.226680</td>\n      <td>0.188353</td>\n      <td>0.168481</td>\n      <td>0.484858</td>\n      <td>0.662564</td>\n      <td>0.440472</td>\n      <td>0.197788</td>\n      <td>0.439329</td>\n    </tr>\n    <tr>\n      <th>concave points_se</th>\n      <td>0.376169</td>\n      <td>0.163851</td>\n      <td>0.407217</td>\n      <td>0.372320</td>\n      <td>0.380676</td>\n      <td>0.642262</td>\n      <td>0.683260</td>\n      <td>0.615634</td>\n      <td>0.393298</td>\n      <td>0.341198</td>\n      <td>0.513346</td>\n      <td>0.230283</td>\n      <td>0.556264</td>\n      <td>0.415730</td>\n      <td>0.328429</td>\n      <td>0.744083</td>\n      <td>0.771804</td>\n      <td>1.000000</td>\n      <td>0.312780</td>\n      <td>0.611044</td>\n      <td>0.358127</td>\n      <td>0.086741</td>\n      <td>0.394999</td>\n      <td>0.342271</td>\n      <td>0.215351</td>\n      <td>0.452888</td>\n      <td>0.549592</td>\n      <td>0.602450</td>\n      <td>0.143116</td>\n      <td>0.310655</td>\n    </tr>\n    <tr>\n      <th>symmetry_se</th>\n      <td>-0.104321</td>\n      <td>0.009127</td>\n      <td>-0.081629</td>\n      <td>-0.072497</td>\n      <td>0.200774</td>\n      <td>0.229977</td>\n      <td>0.178009</td>\n      <td>0.095351</td>\n      <td>0.449137</td>\n      <td>0.345007</td>\n      <td>0.240567</td>\n      <td>0.411621</td>\n      <td>0.266487</td>\n      <td>0.134109</td>\n      <td>0.413506</td>\n      <td>0.394713</td>\n      <td>0.309429</td>\n      <td>0.312780</td>\n      <td>1.000000</td>\n      <td>0.369078</td>\n      <td>-0.128121</td>\n      <td>-0.077473</td>\n      <td>-0.103753</td>\n      <td>-0.110343</td>\n      <td>-0.012662</td>\n      <td>0.060255</td>\n      <td>0.037119</td>\n      <td>-0.030413</td>\n      <td>0.389402</td>\n      <td>0.078079</td>\n    </tr>\n    <tr>\n      <th>fractal_dimension_se</th>\n      <td>-0.042641</td>\n      <td>0.054458</td>\n      <td>-0.005523</td>\n      <td>-0.019887</td>\n      <td>0.283607</td>\n      <td>0.507318</td>\n      <td>0.449301</td>\n      <td>0.257584</td>\n      <td>0.331786</td>\n      <td>0.688132</td>\n      <td>0.227754</td>\n      <td>0.279723</td>\n      <td>0.244143</td>\n      <td>0.127071</td>\n      <td>0.427374</td>\n      <td>0.803269</td>\n      <td>0.727372</td>\n      <td>0.611044</td>\n      <td>0.369078</td>\n      <td>1.000000</td>\n      <td>-0.037488</td>\n      <td>-0.003195</td>\n      <td>-0.001000</td>\n      <td>-0.022736</td>\n      <td>0.170568</td>\n      <td>0.390159</td>\n      <td>0.379975</td>\n      <td>0.215204</td>\n      <td>0.111094</td>\n      <td>0.591328</td>\n    </tr>\n    <tr>\n      <th>radius_worst</th>\n      <td>0.969539</td>\n      <td>0.352573</td>\n      <td>0.969476</td>\n      <td>0.962746</td>\n      <td>0.213120</td>\n      <td>0.535315</td>\n      <td>0.688236</td>\n      <td>0.830318</td>\n      <td>0.185728</td>\n      <td>-0.253691</td>\n      <td>0.715065</td>\n      <td>-0.111690</td>\n      <td>0.697201</td>\n      <td>0.757373</td>\n      <td>-0.230691</td>\n      <td>0.204607</td>\n      <td>0.186904</td>\n      <td>0.358127</td>\n      <td>-0.128121</td>\n      <td>-0.037488</td>\n      <td>1.000000</td>\n      <td>0.359921</td>\n      <td>0.993708</td>\n      <td>0.984015</td>\n      <td>0.216574</td>\n      <td>0.475820</td>\n      <td>0.573975</td>\n      <td>0.787424</td>\n      <td>0.243529</td>\n      <td>0.093492</td>\n    </tr>\n    <tr>\n      <th>texture_worst</th>\n      <td>0.297008</td>\n      <td>0.912045</td>\n      <td>0.303038</td>\n      <td>0.287489</td>\n      <td>0.036072</td>\n      <td>0.248133</td>\n      <td>0.299879</td>\n      <td>0.292752</td>\n      <td>0.090651</td>\n      <td>-0.051269</td>\n      <td>0.194799</td>\n      <td>0.409003</td>\n      <td>0.200371</td>\n      <td>0.196497</td>\n      <td>-0.074743</td>\n      <td>0.143003</td>\n      <td>0.100241</td>\n      <td>0.086741</td>\n      <td>-0.077473</td>\n      <td>-0.003195</td>\n      <td>0.359921</td>\n      <td>1.000000</td>\n      <td>0.365098</td>\n      <td>0.345842</td>\n      <td>0.225429</td>\n      <td>0.360832</td>\n      <td>0.368366</td>\n      <td>0.359755</td>\n      <td>0.233027</td>\n      <td>0.219122</td>\n    </tr>\n    <tr>\n      <th>perimeter_worst</th>\n      <td>0.965137</td>\n      <td>0.358040</td>\n      <td>0.970387</td>\n      <td>0.959120</td>\n      <td>0.238853</td>\n      <td>0.590210</td>\n      <td>0.729565</td>\n      <td>0.855923</td>\n      <td>0.219169</td>\n      <td>-0.205151</td>\n      <td>0.719684</td>\n      <td>-0.102242</td>\n      <td>0.721031</td>\n      <td>0.761213</td>\n      <td>-0.217304</td>\n      <td>0.260516</td>\n      <td>0.226680</td>\n      <td>0.394999</td>\n      <td>-0.103753</td>\n      <td>-0.001000</td>\n      <td>0.993708</td>\n      <td>0.365098</td>\n      <td>1.000000</td>\n      <td>0.977578</td>\n      <td>0.236775</td>\n      <td>0.529408</td>\n      <td>0.618344</td>\n      <td>0.816322</td>\n      <td>0.269493</td>\n      <td>0.138957</td>\n    </tr>\n    <tr>\n      <th>area_worst</th>\n      <td>0.941082</td>\n      <td>0.343546</td>\n      <td>0.941550</td>\n      <td>0.959213</td>\n      <td>0.206718</td>\n      <td>0.509604</td>\n      <td>0.675987</td>\n      <td>0.809630</td>\n      <td>0.177193</td>\n      <td>-0.231854</td>\n      <td>0.751548</td>\n      <td>-0.083195</td>\n      <td>0.730713</td>\n      <td>0.811408</td>\n      <td>-0.182195</td>\n      <td>0.199371</td>\n      <td>0.188353</td>\n      <td>0.342271</td>\n      <td>-0.110343</td>\n      <td>-0.022736</td>\n      <td>0.984015</td>\n      <td>0.345842</td>\n      <td>0.977578</td>\n      <td>1.000000</td>\n      <td>0.209145</td>\n      <td>0.438296</td>\n      <td>0.543331</td>\n      <td>0.747419</td>\n      <td>0.209146</td>\n      <td>0.079647</td>\n    </tr>\n    <tr>\n      <th>smoothness_worst</th>\n      <td>0.119616</td>\n      <td>0.077503</td>\n      <td>0.150549</td>\n      <td>0.123523</td>\n      <td>0.805324</td>\n      <td>0.565541</td>\n      <td>0.448822</td>\n      <td>0.452753</td>\n      <td>0.426675</td>\n      <td>0.504942</td>\n      <td>0.141919</td>\n      <td>-0.073658</td>\n      <td>0.130054</td>\n      <td>0.125389</td>\n      <td>0.314457</td>\n      <td>0.227394</td>\n      <td>0.168481</td>\n      <td>0.215351</td>\n      <td>-0.012662</td>\n      <td>0.170568</td>\n      <td>0.216574</td>\n      <td>0.225429</td>\n      <td>0.236775</td>\n      <td>0.209145</td>\n      <td>1.000000</td>\n      <td>0.568187</td>\n      <td>0.518523</td>\n      <td>0.547691</td>\n      <td>0.493838</td>\n      <td>0.617624</td>\n    </tr>\n    <tr>\n      <th>compactness_worst</th>\n      <td>0.413463</td>\n      <td>0.277830</td>\n      <td>0.455774</td>\n      <td>0.390410</td>\n      <td>0.472468</td>\n      <td>0.865809</td>\n      <td>0.754968</td>\n      <td>0.667454</td>\n      <td>0.473200</td>\n      <td>0.458798</td>\n      <td>0.287103</td>\n      <td>-0.092439</td>\n      <td>0.341919</td>\n      <td>0.283257</td>\n      <td>-0.055558</td>\n      <td>0.678780</td>\n      <td>0.484858</td>\n      <td>0.452888</td>\n      <td>0.060255</td>\n      <td>0.390159</td>\n      <td>0.475820</td>\n      <td>0.360832</td>\n      <td>0.529408</td>\n      <td>0.438296</td>\n      <td>0.568187</td>\n      <td>1.000000</td>\n      <td>0.892261</td>\n      <td>0.801080</td>\n      <td>0.614441</td>\n      <td>0.810455</td>\n    </tr>\n    <tr>\n      <th>concavity_worst</th>\n      <td>0.526911</td>\n      <td>0.301025</td>\n      <td>0.563879</td>\n      <td>0.512606</td>\n      <td>0.434926</td>\n      <td>0.816275</td>\n      <td>0.884103</td>\n      <td>0.752399</td>\n      <td>0.433721</td>\n      <td>0.346234</td>\n      <td>0.380585</td>\n      <td>-0.068956</td>\n      <td>0.418899</td>\n      <td>0.385100</td>\n      <td>-0.058298</td>\n      <td>0.639147</td>\n      <td>0.662564</td>\n      <td>0.549592</td>\n      <td>0.037119</td>\n      <td>0.379975</td>\n      <td>0.573975</td>\n      <td>0.368366</td>\n      <td>0.618344</td>\n      <td>0.543331</td>\n      <td>0.518523</td>\n      <td>0.892261</td>\n      <td>1.000000</td>\n      <td>0.855434</td>\n      <td>0.532520</td>\n      <td>0.686511</td>\n    </tr>\n    <tr>\n      <th>concave points_worst</th>\n      <td>0.744214</td>\n      <td>0.295316</td>\n      <td>0.771241</td>\n      <td>0.722017</td>\n      <td>0.503053</td>\n      <td>0.815573</td>\n      <td>0.861323</td>\n      <td>0.910155</td>\n      <td>0.430297</td>\n      <td>0.175325</td>\n      <td>0.531062</td>\n      <td>-0.119638</td>\n      <td>0.554897</td>\n      <td>0.538166</td>\n      <td>-0.102007</td>\n      <td>0.483208</td>\n      <td>0.440472</td>\n      <td>0.602450</td>\n      <td>-0.030413</td>\n      <td>0.215204</td>\n      <td>0.787424</td>\n      <td>0.359755</td>\n      <td>0.816322</td>\n      <td>0.747419</td>\n      <td>0.547691</td>\n      <td>0.801080</td>\n      <td>0.855434</td>\n      <td>1.000000</td>\n      <td>0.502528</td>\n      <td>0.511114</td>\n    </tr>\n    <tr>\n      <th>symmetry_worst</th>\n      <td>0.163953</td>\n      <td>0.105008</td>\n      <td>0.189115</td>\n      <td>0.143570</td>\n      <td>0.394309</td>\n      <td>0.510223</td>\n      <td>0.409464</td>\n      <td>0.375744</td>\n      <td>0.699826</td>\n      <td>0.334019</td>\n      <td>0.094543</td>\n      <td>-0.128215</td>\n      <td>0.109930</td>\n      <td>0.074126</td>\n      <td>-0.107342</td>\n      <td>0.277878</td>\n      <td>0.197788</td>\n      <td>0.143116</td>\n      <td>0.389402</td>\n      <td>0.111094</td>\n      <td>0.243529</td>\n      <td>0.233027</td>\n      <td>0.269493</td>\n      <td>0.209146</td>\n      <td>0.493838</td>\n      <td>0.614441</td>\n      <td>0.532520</td>\n      <td>0.502528</td>\n      <td>1.000000</td>\n      <td>0.537848</td>\n    </tr>\n    <tr>\n      <th>fractal_dimension_worst</th>\n      <td>0.007066</td>\n      <td>0.119205</td>\n      <td>0.051019</td>\n      <td>0.003738</td>\n      <td>0.499316</td>\n      <td>0.687382</td>\n      <td>0.514930</td>\n      <td>0.368661</td>\n      <td>0.438413</td>\n      <td>0.767297</td>\n      <td>0.049559</td>\n      <td>-0.045655</td>\n      <td>0.085433</td>\n      <td>0.017539</td>\n      <td>0.101480</td>\n      <td>0.590973</td>\n      <td>0.439329</td>\n      <td>0.310655</td>\n      <td>0.078079</td>\n      <td>0.591328</td>\n      <td>0.093492</td>\n      <td>0.219122</td>\n      <td>0.138957</td>\n      <td>0.079647</td>\n      <td>0.617624</td>\n      <td>0.810455</td>\n      <td>0.686511</td>\n      <td>0.511114</td>\n      <td>0.537848</td>\n      <td>1.000000</td>\n    </tr>\n  </tbody>\n</table>\n</div>"
     },
     "execution_count": 25,
     "metadata": {},
     "output_type": "execute_result"
    }
   ],
   "source": [
    "corr = df[num_cols].corr()\n",
    "corr"
   ],
   "metadata": {
    "collapsed": false,
    "pycharm": {
     "name": "#%%\n"
    }
   }
  },
  {
   "cell_type": "code",
   "execution_count": null,
   "outputs": [],
   "source": [],
   "metadata": {
    "collapsed": false,
    "pycharm": {
     "name": "#%%\n"
    }
   }
  }
 ],
 "metadata": {
  "kernelspec": {
   "display_name": "Python 3",
   "language": "python",
   "name": "python3"
  },
  "language_info": {
   "codemirror_mode": {
    "name": "ipython",
    "version": 2
   },
   "file_extension": ".py",
   "mimetype": "text/x-python",
   "name": "python",
   "nbconvert_exporter": "python",
   "pygments_lexer": "ipython2",
   "version": "2.7.6"
  }
 },
 "nbformat": 4,
 "nbformat_minor": 0
}